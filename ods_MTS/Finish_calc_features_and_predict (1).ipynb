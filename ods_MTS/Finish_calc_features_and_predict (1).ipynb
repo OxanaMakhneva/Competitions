{
  "cells": [
    {
      "cell_type": "markdown",
      "id": "af1b63d2-8f96-4c16-b5a0-a71d08742149",
      "metadata": {
        "id": "af1b63d2-8f96-4c16-b5a0-a71d08742149",
        "outputId": "0bfb0ae7-af6d-46b6-927d-8b476ba7b2e1"
      },
      "source": [
        "#Подключение google-disk"
      ]
    },
    {
      "cell_type": "code",
      "execution_count": null,
      "id": "hRd_Edea8CZm",
      "metadata": {
        "id": "hRd_Edea8CZm"
      },
      "outputs": [],
      "source": [
        "from google.colab import drive\n",
        "drive.mount('/content/drive')"
      ]
    },
    {
      "cell_type": "markdown",
      "source": [
        "## Загрузка библиотек"
      ],
      "metadata": {
        "id": "t9BRbiWlzOJb"
      },
      "id": "t9BRbiWlzOJb"
    },
    {
      "cell_type": "code",
      "execution_count": null,
      "id": "c0d5b9a4-2854-4e16-bc11-7870d5533d81",
      "metadata": {
        "id": "c0d5b9a4-2854-4e16-bc11-7870d5533d81"
      },
      "outputs": [],
      "source": [
        "import re\n",
        "import time\n",
        "import copy\n",
        "\n",
        "import pandas as pd\n",
        "import numpy as np\n",
        "import scipy\n",
        "import pyarrow.parquet as pq\n",
        "\n",
        "import joblib\n",
        "from joblib import Parallel, delayed\n",
        "\n",
        "import nltk\n",
        "from nltk.probability import FreqDist\n",
        "\n",
        "from collections import Counter\n",
        "\n",
        "from sklearn.preprocessing import LabelBinarizer, StandardScaler, OrdinalEncoder\n",
        "from sklearn.feature_extraction.text import TfidfVectorizer\n",
        "from sklearn.linear_model import LogisticRegression\n",
        "from sklearn.pipeline import Pipeline\n",
        "from sklearn.model_selection import GridSearchCV, train_test_split\n",
        "from sklearn.decomposition import PCA, TruncatedSVD\n",
        "from sklearn.compose import ColumnTransformer\n",
        "from sklearn.metrics  import f1_score, roc_auc_score\n",
        "from lightgbm import LGBMClassifier, LGBMRegressor\n",
        "from sklearn.base import BaseEstimator, TransformerMixin\n",
        "\n",
        "from tqdm import notebook\n",
        "from tqdm.auto import tqdm"
      ]
    },
    {
      "cell_type": "markdown",
      "source": [
        "## Определение пользовательских функций"
      ],
      "metadata": {
        "id": "W77sDyKYzKT8"
      },
      "id": "W77sDyKYzKT8"
    },
    {
      "cell_type": "code",
      "execution_count": null,
      "id": "s23GGwFo6b5D",
      "metadata": {
        "id": "s23GGwFo6b5D"
      },
      "outputs": [],
      "source": [
        "#Функция, которая ищет наиболее часто встречающиеся сайты (количество в вывводе = numb_commons) из выборки\n",
        "def search_top_urls(strat_data, numb_commons):\n",
        "    urls = \" \".join(strat_data.url_cat)\n",
        "    tokens = urls.split()\n",
        "    text = nltk.Text(tokens)\n",
        "    fdist = FreqDist(text)\n",
        "    return fdist.most_common(numb_commons)\n"
      ]
    },
    {
      "cell_type": "code",
      "execution_count": null,
      "id": "5qXQOttJBu4_",
      "metadata": {
        "id": "5qXQOttJBu4_"
      },
      "outputs": [],
      "source": [
        "#Функция, которая ищет среди наиболее популярных сайтов те, которые находяться вне пересения множеств сайтов для мужчин и женщин \n",
        "def search_commons(data, all_top_amt, rel_top_amt):\n",
        "\n",
        "    top_m_list = search_top_urls(data.query('is_male == 1'), all_top_amt)\n",
        "    top_w_list = search_top_urls(data.query('is_male == 0'), all_top_amt)\n",
        "\n",
        "    top_m = {pair[0] for pair in top_m_list}\n",
        "    top_w = {pair[0] for pair in top_w_list}\n",
        "\n",
        "    diff_for_m = top_m.difference(top_w)\n",
        "    diff_for_w = top_w.difference(top_m)\n",
        "    \n",
        "    top_for_m = [pair[0] for pair in top_m_list if pair[0] in diff_for_m][:rel_top_amt]\n",
        "    top_for_w = [pair[0] for pair in top_w_list if pair[0] in diff_for_w][:rel_top_amt]\n",
        "    \n",
        "    print(top_for_m)\n",
        "    print(top_for_w)\n",
        "\n",
        "    return top_for_m + top_for_w"
      ]
    },
    {
      "cell_type": "code",
      "execution_count": null,
      "id": "ckWIzLs5gX6P",
      "metadata": {
        "id": "ckWIzLs5gX6P"
      },
      "outputs": [],
      "source": [
        "#Функция, которая ищет среди наиболее популярных сайтов те, которые находяться вне пересения множеств сайтов для разных возрастных групп \n",
        "def search_commons_age(data, all_top_amt, rel_top_amt):\n",
        "    tops = []\n",
        "    tqdm.pandas(desc=\"Calc relevant url-s progress ...\")\n",
        "    for idx in notebook.tqdm(range(1,8)):\n",
        "        klass_list = list(range(1,8))\n",
        "        klass_list.remove(idx)\n",
        "\n",
        "        top_lists = [search_top_urls(all_data.query('klass == @klas'), all_top_amt//10) for klas in klass_list]\n",
        "        top = search_top_urls(all_data.query('klass == @idx'), all_top_amt)\n",
        "\n",
        "        top_sets = [{pair[0] for pair in top_list} for top_list in top_lists] \n",
        "        top_set = {pair[0] for pair in top}\n",
        "    \n",
        "        all_set = top_sets[0].union(top_sets[1], top_sets[2], top_sets[3], top_sets[4], top_sets[5])\n",
        "\n",
        "        diff = top_set.difference(all_set)\n",
        "  \n",
        "        rez_top = [pair[0] for pair in top if pair[0] in diff][:rel_top_amt]\n",
        "        tops.extend(rez_top)\n",
        "        print(rez_top)\n",
        "    return tops"
      ]
    },
    {
      "cell_type": "code",
      "execution_count": null,
      "id": "Nti0SriRNI90",
      "metadata": {
        "id": "Nti0SriRNI90"
      },
      "outputs": [],
      "source": [
        "#Функция, которая разделяет записи на возрастные группы\n",
        "def my_class(age):\n",
        "    if (age < 26 and age > 18):\n",
        "        return 1\n",
        "    if (age < 36 and age > 25):\n",
        "        return 2\n",
        "    if (age < 46 and age > 35):\n",
        "        return 3\n",
        "    if (age < 56 and age > 45):\n",
        "        return 4\n",
        "    if (age < 66 and age > 55):\n",
        "        return 5\n",
        "    if (age > 66):\n",
        "        return 6\n",
        "    else:\n",
        "        return 7 "
      ]
    },
    {
      "cell_type": "code",
      "execution_count": null,
      "id": "aa7d27b5-0cbb-4115-ba63-daab0ebd663d",
      "metadata": {
        "id": "aa7d27b5-0cbb-4115-ba63-daab0ebd663d"
      },
      "outputs": [],
      "source": [
        "#Разделяет записи на возрастные группы\n",
        "def my_class_2(age):\n",
        "    if (age < 26):\n",
        "        return 1\n",
        "    if (age <= 35 and age >= 26):\n",
        "        return 2\n",
        "    if (age <= 45 and age >= 36):\n",
        "        return 3\n",
        "    if (age <= 55 and age >= 46):\n",
        "        return 4\n",
        "    if (age <= 65 and age >= 56):\n",
        "        return 5\n",
        "    if (age > 65):\n",
        "        return 6\n",
        "    else:\n",
        "        return 7 \n"
      ]
    },
    {
      "cell_type": "code",
      "execution_count": null,
      "id": "9139322c-6798-4596-b296-e4278d97eb58",
      "metadata": {
        "tags": [],
        "id": "9139322c-6798-4596-b296-e4278d97eb58"
      },
      "outputs": [],
      "source": [
        "#Функция, которая оставляет в списке адресов только те, которые есть в закрытой выборке\n",
        "def search_closed(url_host, closed_list):\n",
        "    old_list = str(url_host).split()\n",
        "    new_list = [url for url in old_list if url in closed_list]\n",
        "    return (\" \".join(new_list)).strip()"
      ]
    },
    {
      "cell_type": "code",
      "execution_count": null,
      "id": "d6a39374-9cdb-4b6b-93ce-e4cd6664a9e6",
      "metadata": {
        "id": "d6a39374-9cdb-4b6b-93ce-e4cd6664a9e6"
      },
      "outputs": [],
      "source": [
        "#Поиск лучших гиперпараметров для задачи классификации на мужчин/женщих\n",
        "def search_best_params_male(how, X, y_true, model_obj, grid_params, STOP_EN, cv_numb = 3):\n",
        "    if how == 'no_tf':\n",
        "         pipe = Pipeline([                    \n",
        "                        ('model', model_obj)\n",
        "                    ])\n",
        "    else:\n",
        "        pipe = Pipeline([                    \n",
        "                    ('tfidf', TfidfVectorizer()),\n",
        "                    ('pca', TruncatedSVD(random_state = 42)), \n",
        "                    ('model', model_obj)\n",
        "                    ])\n",
        "    \n",
        "    grid_obj = GridSearchCV(\\\n",
        "    estimator=pipe, param_grid=grid_params, n_jobs=1, scoring='roc_auc', cv = cv_numb, verbose=2) \n",
        "    \n",
        "    print(f'START fiting in {time.strftime(\"%H:%M:%S\", time.localtime())}')\n",
        "    start = time.time()\n",
        "    grid_obj.fit(X, y_true)\n",
        "    end = time.time()\n",
        "    grid_time = (end - start)\n",
        "   \n",
        "    print(f'Grid searching finished. \\\n",
        "    roc_auc: {grid_obj.best_score_},\\\n",
        "    Grid time: {grid_time} s,\\\n",
        "    Fit time: {np.mean(grid_obj.cv_results_.get(\"mean_fit_time\"))} s,\\\n",
        "    Predict time: {np.mean(grid_obj.cv_results_.get(\"mean_score_time\"))} s')\n",
        "\n",
        "    times = (grid_time, np.mean(grid_obj.cv_results_.get('mean_fit_time')), \\\n",
        "             np.mean(grid_obj.cv_results_.get('mean_score_time')))\n",
        "\n",
        "    #Выводим лучшие гиперпараметры\n",
        "    try:\n",
        "        print(f'best params: {grid_obj.best_params_}')\n",
        "    except:\n",
        "        print(f'проблемы с поиском лучшей модели')\n",
        "     \n",
        "    return (grid_obj, times)  "
      ]
    },
    {
      "cell_type": "code",
      "execution_count": null,
      "id": "344012c3-4cbf-41a5-b58e-c91b2ba16527",
      "metadata": {
        "id": "344012c3-4cbf-41a5-b58e-c91b2ba16527"
      },
      "outputs": [],
      "source": [
        "#Поиск лучших гиперпараметров для задачи расчета возраста\n",
        "def search_best_params_age(how, X, y_true, model_obj, grid_params, STOP_EN, cv_numb = 3):\n",
        "    if how == 'no_tf':\n",
        "         pipe = Pipeline([                    \n",
        "                        ('model', model_obj)\n",
        "                    ])\n",
        "    else:\n",
        "        pipe = Pipeline([('tfidf', TfidfVectorizer()),\n",
        "                         ('pca', TruncatedSVD(random_state = 42)), \n",
        "                         ('model', model_obj)])\n",
        "    \n",
        "    grid_obj = GridSearchCV(estimator=pipe, param_grid=grid_params, n_jobs=-1, scoring='neg_mean_squared_error', cv=cv_numb, verbose=2) \n",
        "    \n",
        "    print(f'START fiting in {time.strftime(\"%H:%M:%S\", time.localtime())}')\n",
        "    start = time.time()\n",
        "    grid_obj.fit(X, y_true)\n",
        "    end = time.time()\n",
        "    grid_time = (end - start)\n",
        "   \n",
        "    print(f'Grid searching finished. \\\n",
        "    F1: {grid_obj.best_score_},\\\n",
        "    Grid time: {grid_time} s,\\\n",
        "    Fit time: {np.mean(grid_obj.cv_results_.get(\"mean_fit_time\"))} s,\\\n",
        "    Predict time: {np.mean(grid_obj.cv_results_.get(\"mean_score_time\"))} s')\n",
        "\n",
        "    times = (grid_time, np.mean(grid_obj.cv_results_.get('mean_fit_time')), \\\n",
        "             np.mean(grid_obj.cv_results_.get('mean_score_time')))\n",
        "\n",
        "    #Выводим лучшие гиперпараметры\n",
        "    try:\n",
        "        print(f'best params: {grid_obj.best_params_}')\n",
        "    except:\n",
        "        print(f'проблемы с поиском лучшей модели')\n",
        "     \n",
        "    return (grid_obj, times)  "
      ]
    },
    {
      "cell_type": "code",
      "execution_count": null,
      "id": "8a262078-3eff-4db3-a6a0-65c9164da224",
      "metadata": {
        "id": "8a262078-3eff-4db3-a6a0-65c9164da224"
      },
      "outputs": [],
      "source": [
        "#Функция, которая удаляет из url то, что после последней точки (доменную зону)\n",
        "def clean_end_of_urls(url_string):\n",
        "    str_list = url_string.split()\n",
        "    str_list = [one_str.rsplit('.', 1)[0] for one_str in str_list]\n",
        "    new_str = str_list\n",
        "    return \" \".join(new_str)"
      ]
    },
    {
      "cell_type": "code",
      "execution_count": null,
      "id": "mbi3-Cy1Xhbq",
      "metadata": {
        "id": "mbi3-Cy1Xhbq"
      },
      "outputs": [],
      "source": [
        "#Функция, которая удаляет все кроме основного домена \n",
        "def clean_url_domen(url_string):\n",
        "  str_list = url_string.split()\n",
        "  str_list = [one_str.rsplit('.', 1)[0] for one_str in str_list]\n",
        "  new_str = []\n",
        "  for one_str in str_list:\n",
        "    try:\n",
        "      new_str.append(one_str.rsplit('.', 1)[1])\n",
        "    except:\n",
        "      new_str.append(one_str.rsplit('.', 1)[0])\n",
        "    \n",
        "  return \" \".join(new_str)"
      ]
    },
    {
      "cell_type": "code",
      "execution_count": null,
      "id": "PO4RfKgLX4J5",
      "metadata": {
        "id": "PO4RfKgLX4J5"
      },
      "outputs": [],
      "source": [
        "#Функция, которая отчищает данные из списка категорий до основного домена\n",
        "def clean_url_catigories(url_string):\n",
        "  url_string = url_string.rsplit('://', 1)[1]\n",
        "  url_string = url_string.split('/', 1)[0]\n",
        "  url_string = url_string.rsplit('.', 1)[0]\n",
        "  if url_string.rsplit('.', 1)[0] == 'www':\n",
        "    url_string = url_string[4:]\n",
        "  return url_string"
      ]
    },
    {
      "cell_type": "code",
      "execution_count": null,
      "id": "XWa9WyG_YJ4M",
      "metadata": {
        "id": "XWa9WyG_YJ4M"
      },
      "outputs": [],
      "source": [
        "#Функция, которая расчитывает словарь (основной домен: категория)\n",
        "def calc_url_and_cat_dict(df_site_cat):\n",
        "  df_site_cat['cat'] = df_site_cat['Подр. 3']\n",
        "  null_index = df_site_cat.query('cat.isna()').index\n",
        "\n",
        "  for one_index in null_index:\n",
        "    df_site_cat.iloc[one_index, 15] = df_site_cat.iloc[one_index, 4]\n",
        "\n",
        "  null_index = df_site_cat.query('cat.isna()').index\n",
        "  for one_index in null_index:\n",
        "    df_site_cat.iloc[one_index, 15] = df_site_cat.iloc[one_index, 3]\n",
        "\n",
        "  domen_list = list(df_site_cat['site'])\n",
        "  cat_list = list(df_site_cat['cat'])\n",
        "  domen_cat = {domen_list[ind]: str(cat_list[ind]) for ind in range(len(domen_list))}\n",
        "  return domen_cat"
      ]
    },
    {
      "cell_type": "code",
      "execution_count": null,
      "id": "ia5ZjEc2YX9-",
      "metadata": {
        "id": "ia5ZjEc2YX9-"
      },
      "outputs": [],
      "source": [
        "#Функция которая подбирает под каждый сайт пользователя категорию или (если ее нет) - пустоту (\"\")\n",
        "def my_search(df):\n",
        "  domen_list = df['clean_url_host'].split()\n",
        "  url_list = df.url_host.split()\n",
        " \n",
        "  str_list = [domen_cat.get(str(one_str), \"\") for ind, one_str in enumerate(domen_list)]\n",
        "  try:\n",
        "    string = (\" \".join(str_list)).strip()\n",
        "  except:\n",
        "    print(str_list)\n",
        "  return \" \".join(str_list)"
      ]
    },
    {
      "cell_type": "code",
      "execution_count": null,
      "id": "d8b90996-2c8e-4979-b825-0ccc64f328e8",
      "metadata": {
        "id": "d8b90996-2c8e-4979-b825-0ccc64f328e8"
      },
      "outputs": [],
      "source": [
        "#Класс - костыль, чтобы можно было подавать на вход tf-idf объекта только один столбец с URL\n",
        "class ColumnSelector(BaseEstimator, TransformerMixin):\n",
        "    \"\"\"Select only specified columns.\"\"\"\n",
        "    def __init__(self, columns):\n",
        "        self.columns = columns\n",
        "        \n",
        "    def fit(self, X, y=None):\n",
        "        return self\n",
        "    \n",
        "    def transform(self, X):\n",
        "        print(type(X[self.columns]))\n",
        "        return X[self.columns]"
      ]
    },
    {
      "cell_type": "code",
      "execution_count": null,
      "id": "9f2f683c-f810-4ee0-8612-3dc235e46e30",
      "metadata": {
        "id": "9f2f683c-f810-4ee0-8612-3dc235e46e30"
      },
      "outputs": [],
      "source": [
        "#Константные списки\n",
        "part_days = ['evening', 'night', 'day', 'morning']\n",
        "week_days = ['Monday', 'Tuesday', 'Wednesday', 'Thursday','Friday', 'Saturday', 'Sunday' ]"
      ]
    },
    {
      "cell_type": "markdown",
      "id": "aac28d61-5d6b-4bb5-8b33-4a348abb33ab",
      "metadata": {
        "id": "aac28d61-5d6b-4bb5-8b33-4a348abb33ab"
      },
      "source": [
        "## Загрузка данных"
      ]
    },
    {
      "cell_type": "code",
      "execution_count": null,
      "id": "XEwQcpCquKxF",
      "metadata": {
        "id": "XEwQcpCquKxF"
      },
      "outputs": [],
      "source": [
        "#Загрузка ДФ с категориями\n",
        "try:\n",
        "  site = pd.read_excel(\"/content/drive/MyDrive/Colab Notebooks/yaca_base.xlsx\")\n",
        "except:\n",
        "  site = pd.read_excel(\"yaca_base.xlsx\")\n",
        "\n",
        "#Все признаки (open and closed)\n",
        "try:\n",
        "  all_users = pd.read_csv(\"/content/drive/MyDrive/all_users_prepared\")\n",
        "except:\n",
        "  all_users = pd.read_csv(\"all_data_prepared_2\")\n",
        "\n",
        "#Данные с целевым признаком (age and is_male)\n",
        "try:\n",
        "  target_data = pd.read_parquet(\"/content/drive/MyDrive/public_train.pqt\")\n",
        "except:\n",
        "  target_data = pd.read_parquet(\"public_train.pqt\")\n",
        "\n",
        "#Список идентификаторов пользователей, по которым надо сделать предсказание\n",
        "try:\n",
        "  id_to_submit = pq.read_table(\"/content/drive/MyDrive/submit_2.pqt\").to_pandas()\n",
        "except:\n",
        "  id_to_submit = pq.read_table(\"submit_2.pqt\").to_pandas()"
      ]
    },
    {
      "cell_type": "code",
      "execution_count": null,
      "id": "FJz4MqMBTpKw",
      "metadata": {
        "id": "FJz4MqMBTpKw"
      },
      "outputs": [],
      "source": [
        "all_users = all_users.drop('Unnamed: 0', axis = 1, errors = 'ignore')"
      ]
    },
    {
      "cell_type": "code",
      "execution_count": null,
      "id": "I4kBgwqCE8f7",
      "metadata": {
        "id": "I4kBgwqCE8f7"
      },
      "outputs": [],
      "source": [
        "catigory_cols = ['name:city', 'name:region', 'name:cpe', 'name: cpe_type_cd']"
      ]
    },
    {
      "cell_type": "markdown",
      "source": [
        "# Скромная предъобработка"
      ],
      "metadata": {
        "id": "SbxxW9WFzeJR"
      },
      "id": "SbxxW9WFzeJR"
    },
    {
      "cell_type": "code",
      "execution_count": null,
      "id": "bf01c636-188d-4ea4-a956-a45008822104",
      "metadata": {
        "id": "bf01c636-188d-4ea4-a956-a45008822104"
      },
      "outputs": [],
      "source": [
        "# Изменение типов данных (для дат)\n",
        "all_users['begin_date'] = pd.to_datetime(all_users['begin_date'])\n",
        "all_users['end_date'] = pd.to_datetime(all_users['end_date'])"
      ]
    },
    {
      "cell_type": "code",
      "execution_count": null,
      "id": "5abe8c46-0c8a-4e38-b7f3-abdf861da2a8",
      "metadata": {
        "id": "5abe8c46-0c8a-4e38-b7f3-abdf861da2a8",
        "outputId": "68cc4ca9-3eb6-475f-fc77-69758a2ca650"
      },
      "outputs": [
        {
          "data": {
            "text/plain": [
              "0"
            ]
          },
          "execution_count": 26,
          "metadata": {},
          "output_type": "execute_result"
        }
      ],
      "source": [
        "# Проверка на пропуски\n",
        "all_users.url_host.isna().sum()"
      ]
    },
    {
      "cell_type": "markdown",
      "id": "e029327d-689b-40dd-b9d2-98077228b812",
      "metadata": {
        "id": "e029327d-689b-40dd-b9d2-98077228b812"
      },
      "source": [
        "## Отчистка url"
      ]
    },
    {
      "cell_type": "code",
      "execution_count": null,
      "id": "d7f1d802-3818-42b0-8d7c-986b1228dad9",
      "metadata": {
        "colab": {
          "base_uri": "https://localhost:8080/"
        },
        "id": "d7f1d802-3818-42b0-8d7c-986b1228dad9",
        "outputId": "85d0cf67-0b05-4263-9b9a-9b39db1d71a9"
      },
      "outputs": [
        {
          "data": {
            "text/plain": [
              "0    kp yastatic avatars.mds.yandex sunuserapi yhb....\n",
              "1    avatars.mds.yandex avatars.mds.yandex zen.yand...\n",
              "2    avatars.mds.yandex avatars.mds.yandex relap sm...\n",
              "3    ad.mail ads.betweendigital go.mail googleads.g...\n",
              "4    ad.mail avatars.mds.yandex cdn-rtb.sape i.ytim...\n",
              "Name: url_host, dtype: object"
            ]
          },
          "execution_count": 25,
          "metadata": {},
          "output_type": "execute_result"
        }
      ],
      "source": [
        "#Удаляем доменные зоны\n",
        "all_users.url_host = all_users.url_host.transform(lambda x: clean_end_of_urls(str(x)))\n",
        "\n",
        "#Убираем цифры\n",
        "p2 = re.compile(r'\\d+[.-]*')\n",
        "all_users.url_host = all_users.url_host.transform(lambda x: p2.sub('', str(x)))\n",
        "\n",
        "#Убираем nuserapi (ели она повторяется в url-адресе больше одного раза)\n",
        "p3 = re.compile(r'(nuserapi)(\\1{1,})')\n",
        "repl = 'nuserapi'\n",
        "all_users.url_host = all_users.url_host.transform(lambda x: re.sub(p3, repl, str(x)))\n",
        "\n",
        "#Проверка результата\n",
        "all_users.url_host.head(5)"
      ]
    },
    {
      "cell_type": "markdown",
      "id": "cwUOeKvPbhqW",
      "metadata": {
        "id": "cwUOeKvPbhqW"
      },
      "source": [
        "## Расчет статистик по категориям\n",
        "\n",
        "Для того, чтобы снизить размерность признаков принято решение попробовать:\n",
        "- взять общедоступный датафрейм, в котором храняться записи с названиями сайтов и их категориями с несколькими уровнями конкретизации\n",
        "- заменить названия сайтов в анализируемом ДФ на названия категорий из дополнительного ДФ.\n",
        "\n",
        "Идея такая: сайтов с названиями kolesa, koleso, 4kolesa много, но все они относяться к одной категории - автотовары. Соответсвенно, такая замена возможно поможет модели легче подбирать для разных групп людей релевантные категории."
      ]
    },
    {
      "cell_type": "code",
      "execution_count": null,
      "id": "QlFWM7FXcGyR",
      "metadata": {
        "colab": {
          "base_uri": "https://localhost:8080/"
        },
        "id": "QlFWM7FXcGyR",
        "outputId": "6edfb2f6-3b8a-489b-d0cb-baac6c267093"
      },
      "outputs": [
        {
          "data": {
            "text/plain": [
              "0    Eurovision  Broadcasts     Email  Email   Othe...\n",
              "1    Broadcasts Broadcasts  Email MobileApps    Bro...\n",
              "2    Broadcasts Broadcasts  Infrastructure Search_E...\n",
              "3         General  Building_Supplies Search_Engines...\n",
              "4     Broadcasts  Email  Email    Search_Engines   ...\n",
              "Name: url_cat, dtype: object"
            ]
          },
          "execution_count": 27,
          "metadata": {},
          "output_type": "execute_result"
        }
      ],
      "source": [
        "#Заполняем пустые url_host \n",
        "all_users.url_host = all_users.url_host.fillna('no')\n",
        "\n",
        "#Чистим urls до домена\n",
        "all_users['clean_url_host'] = all_users.url_host.transform(lambda x: clean_url_domen(str(x)))\n",
        "\n",
        "#Чистим urls из списка категорий до домена\n",
        "site['site'] = site['Сайт'].transform(lambda x: clean_url_catigories(str(x)))\n",
        "\n",
        "#Словарь домен: категория\n",
        "global domen_cat\n",
        "domen_cat = calc_url_and_cat_dict(site)\n",
        "\n",
        "#Расчитываем для каждого пользователя все его категории\n",
        "all_users['url_cat'] = all_users.apply(my_search, axis = 1)\n",
        "all_users['url_cat'].head(5)"
      ]
    },
    {
      "cell_type": "code",
      "execution_count": null,
      "id": "zhhkClITdbPO",
      "metadata": {
        "id": "zhhkClITdbPO",
        "outputId": "93274f20-8ea1-47c3-a4fa-d999b21c2405"
      },
      "outputs": [
        {
          "data": {
            "text/plain": [
              "{'12545',\n",
              " '3D',\n",
              " '3D-shooters',\n",
              " '4651',\n",
              " '4760',\n",
              " 'Actors',\n",
              " 'Adult',\n",
              " 'Adventures',\n",
              " 'Advertizing',\n",
              " 'Agency',\n",
              " 'Alcohol',\n",
              " 'Alternative',\n",
              " 'Amateur_photographer',\n",
              " 'American',\n",
              " 'American_Cars',\n",
              " 'Analitics',\n",
              " 'Animation',\n",
              " 'Aphorismes',\n",
              " 'Apple',\n",
              " 'Aquarium',\n",
              " 'Arcades',\n",
              " 'Architecture',\n",
              " 'Art_for_sale',\n",
              " 'Articles',\n",
              " 'Astrology',\n",
              " 'Audio',\n",
              " 'Audit',\n",
              " 'Auto_price',\n",
              " 'Automation',\n",
              " 'Autoschools',\n",
              " 'Autotravel',\n",
              " 'Aviation',\n",
              " 'Banks',\n",
              " 'Banners_Networks',\n",
              " 'Bards',\n",
              " 'Bars',\n",
              " 'Beach',\n",
              " 'Beauty_salon',\n",
              " 'Beer',\n",
              " 'Belarusian_Literature',\n",
              " 'Biographics',\n",
              " 'Birds',\n",
              " 'Boards',\n",
              " 'Boats',\n",
              " 'Bookstore',\n",
              " 'Bowling',\n",
              " 'Broadcasts',\n",
              " 'Brokers',\n",
              " 'Building_Equipment',\n",
              " 'Building_Supplies',\n",
              " 'Business',\n",
              " 'Business_Contacts',\n",
              " 'Bystrovozvodimye',\n",
              " 'Car_Navigators',\n",
              " 'Caricatures',\n",
              " 'Catalogues',\n",
              " 'Cats',\n",
              " 'Celebrations',\n",
              " 'Cellular',\n",
              " 'Channels',\n",
              " 'Chanson',\n",
              " 'Cheats_and_Hints_and_Codes',\n",
              " 'Chemical_Industry',\n",
              " 'Chemicals',\n",
              " 'Children',\n",
              " 'Chinese',\n",
              " 'Chinese_Cars',\n",
              " 'Cinema',\n",
              " 'Circus',\n",
              " 'City_photo',\n",
              " 'Classical',\n",
              " 'Cleaning_Agents',\n",
              " 'Clothing_footwear',\n",
              " 'Club_dance',\n",
              " 'Clubbills',\n",
              " 'Collecting',\n",
              " 'Communication_Equipment',\n",
              " 'Computer_service',\n",
              " 'Computers',\n",
              " 'Conditioners_and_Heaters',\n",
              " 'Consumables',\n",
              " 'Consumer_Electronics',\n",
              " 'Control_Organizations',\n",
              " 'Cottage',\n",
              " 'Cottages',\n",
              " 'Country_Realty',\n",
              " 'Cryptography',\n",
              " 'Customs',\n",
              " 'Dancesport',\n",
              " 'Database',\n",
              " 'Delivery',\n",
              " 'Design',\n",
              " 'Designing',\n",
              " 'Detective',\n",
              " 'Diets',\n",
              " 'Divination',\n",
              " 'Dogs',\n",
              " 'Domestic_Appliances',\n",
              " 'Dramatic',\n",
              " 'Drawing',\n",
              " 'Drivers',\n",
              " 'Drugstores',\n",
              " 'East_dances',\n",
              " 'Electronic',\n",
              " 'Electronics',\n",
              " 'Email',\n",
              " 'Energy',\n",
              " 'Engineering',\n",
              " 'English-Russian_dict',\n",
              " 'Entertainment',\n",
              " 'Entertainment_directories',\n",
              " 'Equipment',\n",
              " 'European',\n",
              " 'European_Cars',\n",
              " 'Eurovision',\n",
              " 'Exchanges',\n",
              " 'Exhibition_Stand',\n",
              " 'Extra_Equipment',\n",
              " 'FOREX',\n",
              " 'Fairs',\n",
              " 'Family_Entertainment',\n",
              " 'Fancy_dress',\n",
              " 'Fantasy',\n",
              " 'Fashion',\n",
              " 'Female',\n",
              " 'Festival',\n",
              " 'Filmmaking',\n",
              " 'Films_review',\n",
              " 'Firework',\n",
              " 'Fitness',\n",
              " 'Flash_animation',\n",
              " 'Flowers',\n",
              " 'Folk',\n",
              " 'Folk_Art',\n",
              " 'Food',\n",
              " 'Foreign_Poetry',\n",
              " 'Foreign_Prose',\n",
              " 'Foreign_realty',\n",
              " 'Forums',\n",
              " 'Forwarding',\n",
              " 'Franchise',\n",
              " 'Freelance',\n",
              " 'Furniture',\n",
              " 'GPS_and_GLONASS',\n",
              " 'Galleries',\n",
              " 'Gambles',\n",
              " 'Gardening',\n",
              " 'Genealogy',\n",
              " 'General',\n",
              " 'General_encyclopedias',\n",
              " 'Gifts',\n",
              " 'Glossaries',\n",
              " 'Greetings',\n",
              " 'Grocery_stores',\n",
              " 'Guitar',\n",
              " 'Guns',\n",
              " 'Health_Care_Goods',\n",
              " 'Hospitals',\n",
              " 'Hosting',\n",
              " 'House_Works',\n",
              " 'Housing',\n",
              " 'Hypothec',\n",
              " 'Immigration',\n",
              " 'Infantile',\n",
              " 'Infrastructure',\n",
              " 'Inquiry',\n",
              " 'Insurance',\n",
              " 'Integrators',\n",
              " 'Internet',\n",
              " 'Introduction_Agencies',\n",
              " 'Investing',\n",
              " 'Japanese',\n",
              " 'Japanese_Cars',\n",
              " 'Java_games',\n",
              " 'Jazz',\n",
              " 'Jewelry',\n",
              " 'Job_for_students',\n",
              " 'Jokes',\n",
              " 'Journals',\n",
              " 'Korean',\n",
              " 'Korean_Cars',\n",
              " 'Land_Cruisers',\n",
              " 'Latina',\n",
              " 'Law',\n",
              " 'Legal_Advice',\n",
              " 'Libraries',\n",
              " 'Literature',\n",
              " 'Loans',\n",
              " 'Logos',\n",
              " 'Magazines',\n",
              " 'Magic',\n",
              " 'Make_up',\n",
              " 'Male',\n",
              " 'Management',\n",
              " 'Managment',\n",
              " 'Maps',\n",
              " 'Marketing',\n",
              " 'Markets',\n",
              " 'Marriage',\n",
              " 'Measure_Units',\n",
              " 'Memoirs',\n",
              " 'Memorial_museum',\n",
              " 'Messaging',\n",
              " 'Messenger',\n",
              " 'Messenger_service',\n",
              " 'Metall',\n",
              " 'Metallurgy',\n",
              " 'MobileApps',\n",
              " 'Modelling',\n",
              " 'Monitors',\n",
              " 'Montage',\n",
              " 'Moto-fans',\n",
              " 'Movies',\n",
              " 'Mp3',\n",
              " 'Museum_of_regional',\n",
              " 'Museums',\n",
              " 'Musical',\n",
              " 'Musical_instruments',\n",
              " 'Needlework',\n",
              " 'Network_Equipment',\n",
              " 'Networks_Building',\n",
              " 'News_Agencies',\n",
              " 'Newspapers',\n",
              " 'Nightclubs',\n",
              " 'Notebooks',\n",
              " 'Office_Cleaning',\n",
              " 'Office_Equipment',\n",
              " 'Office_Furniture',\n",
              " 'Office_Rent',\n",
              " 'Offshores',\n",
              " 'Old_cars',\n",
              " 'On-line_Sales_Organization',\n",
              " 'Online_Advise',\n",
              " 'Online_Broadcasting',\n",
              " 'Online_Libraries',\n",
              " 'Online_Media',\n",
              " 'Online_shops',\n",
              " 'Operators',\n",
              " 'Other',\n",
              " 'PR',\n",
              " 'Painting',\n",
              " 'Palaces',\n",
              " 'Parents',\n",
              " 'Payment',\n",
              " 'Pdd',\n",
              " 'Pension_Funds',\n",
              " 'Perfumery',\n",
              " 'Periodicals',\n",
              " 'Pet_Supplies',\n",
              " 'Photoart',\n",
              " 'Photobanks',\n",
              " 'Photographers',\n",
              " 'Photographic_studioes',\n",
              " 'Photolaboratory',\n",
              " 'Plastic_surgery',\n",
              " 'Playbills',\n",
              " 'Pop',\n",
              " 'Portals',\n",
              " 'Poster',\n",
              " 'Printers',\n",
              " 'Printing',\n",
              " 'Programming',\n",
              " 'Programming_Languages',\n",
              " 'Programms',\n",
              " 'Providing',\n",
              " 'Psychological_tests',\n",
              " 'Publishing_Houses',\n",
              " 'Puns',\n",
              " 'Puppet',\n",
              " 'Purchasing',\n",
              " 'Puzzles',\n",
              " 'Quests',\n",
              " 'Radio-fans',\n",
              " 'Rap',\n",
              " 'Rates',\n",
              " 'Ratings',\n",
              " 'Recipes',\n",
              " 'Registrars',\n",
              " 'Relations',\n",
              " 'Renovation',\n",
              " 'Reptiles',\n",
              " 'Restaurant_directories',\n",
              " 'Rock',\n",
              " 'Romance',\n",
              " 'Russian',\n",
              " 'Russian_Cars',\n",
              " 'Russian_Poetry',\n",
              " 'Russian_Prose',\n",
              " 'Russion_dict',\n",
              " 'Safes',\n",
              " 'Satellite_TV',\n",
              " 'Schools',\n",
              " 'Science_museum',\n",
              " 'Sculpture',\n",
              " 'Search_Engines',\n",
              " 'Security',\n",
              " 'Servers',\n",
              " 'Services',\n",
              " 'Sex_shops',\n",
              " 'Showbiz',\n",
              " 'Showtimes',\n",
              " 'Simulators',\n",
              " 'Skating_Rink',\n",
              " 'Soaps',\n",
              " 'Soft',\n",
              " 'Sound',\n",
              " 'Soundtrack',\n",
              " 'Spare_Parts',\n",
              " 'Specialized_Care',\n",
              " 'Sport',\n",
              " 'Stationary',\n",
              " 'Stations',\n",
              " 'Stories',\n",
              " 'Strategies',\n",
              " 'Student_Jokes',\n",
              " 'Subject_encyclopedias',\n",
              " 'Summer_activities',\n",
              " 'Sushi_and_pizza',\n",
              " 'Systems',\n",
              " 'Tablets',\n",
              " 'Tales',\n",
              " 'Tattoo',\n",
              " 'Taxi',\n",
              " 'Telecasts',\n",
              " 'The_theory_of_a_photo',\n",
              " 'Theaters',\n",
              " 'Toasts',\n",
              " 'Tobacco',\n",
              " 'Translation',\n",
              " 'Translator',\n",
              " 'Tuning',\n",
              " 'Tyres',\n",
              " 'UFO',\n",
              " 'Unacknowledged',\n",
              " 'Urban_Transport',\n",
              " 'Used',\n",
              " 'VAZ',\n",
              " 'Veterinary',\n",
              " 'Video_Games',\n",
              " 'Video_cards',\n",
              " 'Videos',\n",
              " 'Viruses',\n",
              " 'Wallpapers',\n",
              " 'War_museums',\n",
              " 'Wars',\n",
              " 'Weather',\n",
              " 'Web-Directories',\n",
              " 'Web_Development',\n",
              " 'Womens_Life',\n",
              " 'Zoos',\n",
              " 'community',\n",
              " 'game-play',\n",
              " 'hardware',\n",
              " 'realty_base',\n",
              " 'transmitters'}"
            ]
          },
          "execution_count": 28,
          "metadata": {},
          "output_type": "execute_result"
        }
      ],
      "source": [
        "#Расчитываем все имеющиеся в исследуемом ДФ уникальные категории\n",
        "all_uniq_cats = set((\" \".join(all_users.url_cat)).split())\n",
        "all_uniq_cats"
      ]
    },
    {
      "cell_type": "code",
      "execution_count": null,
      "id": "651fb9d3-93d2-43cb-be8c-9632201b67a1",
      "metadata": {
        "id": "651fb9d3-93d2-43cb-be8c-9632201b67a1"
      },
      "outputs": [],
      "source": [
        "#Расчет для каждого пользователя и для каждой из имеющихся в иссдедуемом ДФ категории поличества посещений сайтов этот категории.\n",
        "#Добавление в ДФ столбца для каждой категории. \n",
        "for url in tqdm(all_uniq_cats): \n",
        " all_users[url] = all_users.url_cat.transform(lambda x: Counter(str(x).split())[url])"
      ]
    },
    {
      "cell_type": "markdown",
      "source": [
        "В результате предвичной предобработки выполнено следующее:\n",
        "- заменены на datetime типы данных в столбцах с датами\n",
        "- удалены доменные зоны в названиях сайтов\n",
        "- удалены цыфры в названиях сайтов\n",
        "- удалена многократноповторющаяся строка nuserapi\n",
        "- сформирован словарь соответствий {название сайта: категория сайта}\n",
        "- всех встречающихся в ДФ категорий созданы и записаны в ДФ столбцы с количеством посещений этой категории сайтов пользователем"
      ],
      "metadata": {
        "id": "z5N9mc-py1lF"
      },
      "id": "z5N9mc-py1lF"
    },
    {
      "cell_type": "markdown",
      "id": "12f8cf63-c3b3-4ba7-96eb-f8e43439a665",
      "metadata": {
        "id": "12f8cf63-c3b3-4ba7-96eb-f8e43439a665"
      },
      "source": [
        "## Подготовка для ML. Кодирование"
      ]
    },
    {
      "cell_type": "markdown",
      "source": [
        "Тепербь уже понятно, стратегия самостоятельного кодирования - это точно не лучщий вариант, если используются бустинговые модели LightGBM или CatBoost. Но момент соревнования и разработки блокнота было сделано именно так. Наиболее вероятно это в хужшую сторону повлияло на качестве предсказания. "
      ],
      "metadata": {
        "id": "0RlEbuTJ03d3"
      },
      "id": "0RlEbuTJ03d3"
    },
    {
      "cell_type": "code",
      "execution_count": null,
      "id": "a09a63e3-bf38-42d8-a33f-8ab4dc27e469",
      "metadata": {
        "id": "a09a63e3-bf38-42d8-a33f-8ab4dc27e469"
      },
      "outputs": [],
      "source": [
        "#Coding for cpe-type\n",
        "coder = LabelBinarizer()\n",
        "coder.fit(all_users['cpe_type_cd'])\n",
        "\n",
        "##Coding for all_users\n",
        "coded = coder.transform(all_users['cpe_type_cd'])\n",
        "coded_df = pd.DataFrame(coded, index = all_users.index)\n",
        "all_users = pd.concat([all_users, coded_df], axis=1).drop(['cpe_type_cd'], axis=1)\n"
      ]
    },
    {
      "cell_type": "code",
      "execution_count": null,
      "id": "b3c617e2-bc9b-4f53-9c9b-a57d0ea66694",
      "metadata": {
        "id": "b3c617e2-bc9b-4f53-9c9b-a57d0ea66694"
      },
      "outputs": [],
      "source": [
        "#Coding for city, region and model of cpe\n",
        "encoder = OrdinalEncoder(handle_unknown = 'use_encoded_value')\n",
        "encoder.set_params(unknown_value=-1)\n",
        "\n",
        "##Coding for train\n",
        "all_users.loc[:,['city', 'region', 'cpe']] =\\\n",
        "encoder.fit_transform(all_users[['city', 'region', 'cpe']])"
      ]
    },
    {
      "cell_type": "markdown",
      "id": "19gf8uBGtHs_",
      "metadata": {
        "id": "19gf8uBGtHs_"
      },
      "source": [
        "## Масштабирование части данных\n",
        "\n",
        "Так как модели линейной регрессии и им подобные не использовались, необходимость масштабирования  отсутствовала"
      ]
    },
    {
      "cell_type": "code",
      "execution_count": null,
      "id": "900c8ee4-572d-4653-811e-d762d4d82d1c",
      "metadata": {
        "tags": [],
        "id": "900c8ee4-572d-4653-811e-d762d4d82d1c",
        "outputId": "bc3a38d3-bb75-48ad-a28c-64d74c4eefb3"
      },
      "outputs": [
        {
          "data": {
            "text/html": [
              "<div>\n",
              "<style scoped>\n",
              "    .dataframe tbody tr th:only-of-type {\n",
              "        vertical-align: middle;\n",
              "    }\n",
              "\n",
              "    .dataframe tbody tr th {\n",
              "        vertical-align: top;\n",
              "    }\n",
              "\n",
              "    .dataframe thead th {\n",
              "        text-align: right;\n",
              "    }\n",
              "</style>\n",
              "<table border=\"1\" class=\"dataframe\">\n",
              "  <thead>\n",
              "    <tr style=\"text-align: right;\">\n",
              "      <th></th>\n",
              "      <th>user_id</th>\n",
              "      <th>begin_date</th>\n",
              "      <th>end_date</th>\n",
              "      <th>url_host</th>\n",
              "      <th>price</th>\n",
              "      <th>evening</th>\n",
              "      <th>night</th>\n",
              "      <th>day</th>\n",
              "      <th>morning</th>\n",
              "      <th>Monday</th>\n",
              "      <th>...</th>\n",
              "      <th>city_count</th>\n",
              "      <th>region_count</th>\n",
              "      <th>cpe_count</th>\n",
              "      <th>clean_url_host</th>\n",
              "      <th>url_cat</th>\n",
              "      <th>0</th>\n",
              "      <th>1</th>\n",
              "      <th>2</th>\n",
              "      <th>3</th>\n",
              "      <th>4</th>\n",
              "    </tr>\n",
              "  </thead>\n",
              "  <tbody>\n",
              "    <tr>\n",
              "      <th>261849</th>\n",
              "      <td>128172</td>\n",
              "      <td>2021-06-16</td>\n",
              "      <td>2021-07-09</td>\n",
              "      <td>i.ytimg img.samsungapps sunuserapi i.ytimg i.y...</td>\n",
              "      <td>20864.0</td>\n",
              "      <td>172</td>\n",
              "      <td>46</td>\n",
              "      <td>191</td>\n",
              "      <td>92</td>\n",
              "      <td>57</td>\n",
              "      <td>...</td>\n",
              "      <td>1</td>\n",
              "      <td>1</td>\n",
              "      <td>1</td>\n",
              "      <td>i img sunuserapi i i sunuserapi sunuserapi g v...</td>\n",
              "      <td>Email   Email Email    Other  Email    Other S...</td>\n",
              "      <td>0</td>\n",
              "      <td>0</td>\n",
              "      <td>0</td>\n",
              "      <td>1</td>\n",
              "      <td>0</td>\n",
              "    </tr>\n",
              "    <tr>\n",
              "      <th>73422</th>\n",
              "      <td>317999</td>\n",
              "      <td>2021-06-16</td>\n",
              "      <td>2021-06-26</td>\n",
              "      <td>i.ytimg i.ytimg yandex googleads.g.doubleclick...</td>\n",
              "      <td>34056.0</td>\n",
              "      <td>146</td>\n",
              "      <td>11</td>\n",
              "      <td>76</td>\n",
              "      <td>67</td>\n",
              "      <td>57</td>\n",
              "      <td>...</td>\n",
              "      <td>2</td>\n",
              "      <td>1</td>\n",
              "      <td>1</td>\n",
              "      <td>i i yandex g i mds tpc i mds g vk ads yandex g...</td>\n",
              "      <td>Email Email Search_Engines  Email Broadcasts  ...</td>\n",
              "      <td>0</td>\n",
              "      <td>0</td>\n",
              "      <td>0</td>\n",
              "      <td>1</td>\n",
              "      <td>0</td>\n",
              "    </tr>\n",
              "    <tr>\n",
              "      <th>363854</th>\n",
              "      <td>317716</td>\n",
              "      <td>2021-06-19</td>\n",
              "      <td>2021-08-12</td>\n",
              "      <td>instagram l.instagram vk yastatic google yande...</td>\n",
              "      <td>52898.0</td>\n",
              "      <td>452</td>\n",
              "      <td>30</td>\n",
              "      <td>821</td>\n",
              "      <td>342</td>\n",
              "      <td>312</td>\n",
              "      <td>...</td>\n",
              "      <td>4</td>\n",
              "      <td>3</td>\n",
              "      <td>1</td>\n",
              "      <td>instagram l vk yastatic google yandex ads appl...</td>\n",
              "      <td>community  Other  MobileApps Search_Engines  C...</td>\n",
              "      <td>0</td>\n",
              "      <td>0</td>\n",
              "      <td>0</td>\n",
              "      <td>1</td>\n",
              "      <td>0</td>\n",
              "    </tr>\n",
              "    <tr>\n",
              "      <th>290394</th>\n",
              "      <td>414511</td>\n",
              "      <td>2021-06-16</td>\n",
              "      <td>2021-08-08</td>\n",
              "      <td>icloud m.love m.vk mail.yandex mail.yandex ssp...</td>\n",
              "      <td>57805.0</td>\n",
              "      <td>1449</td>\n",
              "      <td>396</td>\n",
              "      <td>1153</td>\n",
              "      <td>836</td>\n",
              "      <td>522</td>\n",
              "      <td>...</td>\n",
              "      <td>1</td>\n",
              "      <td>1</td>\n",
              "      <td>1</td>\n",
              "      <td>icloud m m mail mail ssp sunuserapi yandex yas...</td>\n",
              "      <td>Hosting   Email Email Building_Supplies  Searc...</td>\n",
              "      <td>0</td>\n",
              "      <td>0</td>\n",
              "      <td>0</td>\n",
              "      <td>1</td>\n",
              "      <td>0</td>\n",
              "    </tr>\n",
              "    <tr>\n",
              "      <th>225792</th>\n",
              "      <td>181270</td>\n",
              "      <td>2021-06-17</td>\n",
              "      <td>2021-07-17</td>\n",
              "      <td>ad.mail sunuserapi tpc.googlesyndication vk go...</td>\n",
              "      <td>20986.0</td>\n",
              "      <td>119</td>\n",
              "      <td>5</td>\n",
              "      <td>192</td>\n",
              "      <td>179</td>\n",
              "      <td>126</td>\n",
              "      <td>...</td>\n",
              "      <td>1</td>\n",
              "      <td>1</td>\n",
              "      <td>1</td>\n",
              "      <td>ad sunuserapi tpc vk g mail my cdn-rtb g mail ...</td>\n",
              "      <td>Other  Email    Email Hosting  Email Other ...</td>\n",
              "      <td>0</td>\n",
              "      <td>0</td>\n",
              "      <td>0</td>\n",
              "      <td>1</td>\n",
              "      <td>0</td>\n",
              "    </tr>\n",
              "  </tbody>\n",
              "</table>\n",
              "<p>5 rows × 29 columns</p>\n",
              "</div>"
            ],
            "text/plain": [
              "        user_id begin_date   end_date  \\\n",
              "261849   128172 2021-06-16 2021-07-09   \n",
              "73422    317999 2021-06-16 2021-06-26   \n",
              "363854   317716 2021-06-19 2021-08-12   \n",
              "290394   414511 2021-06-16 2021-08-08   \n",
              "225792   181270 2021-06-17 2021-07-17   \n",
              "\n",
              "                                                 url_host    price  evening  \\\n",
              "261849  i.ytimg img.samsungapps sunuserapi i.ytimg i.y...  20864.0      172   \n",
              "73422   i.ytimg i.ytimg yandex googleads.g.doubleclick...  34056.0      146   \n",
              "363854  instagram l.instagram vk yastatic google yande...  52898.0      452   \n",
              "290394  icloud m.love m.vk mail.yandex mail.yandex ssp...  57805.0     1449   \n",
              "225792  ad.mail sunuserapi tpc.googlesyndication vk go...  20986.0      119   \n",
              "\n",
              "        night   day  morning  Monday  ...  city_count  region_count  \\\n",
              "261849     46   191       92      57  ...           1             1   \n",
              "73422      11    76       67      57  ...           2             1   \n",
              "363854     30   821      342     312  ...           4             3   \n",
              "290394    396  1153      836     522  ...           1             1   \n",
              "225792      5   192      179     126  ...           1             1   \n",
              "\n",
              "        cpe_count                                     clean_url_host  \\\n",
              "261849          1  i img sunuserapi i i sunuserapi sunuserapi g v...   \n",
              "73422           1  i i yandex g i mds tpc i mds g vk ads yandex g...   \n",
              "363854          1  instagram l vk yastatic google yandex ads appl...   \n",
              "290394          1  icloud m m mail mail ssp sunuserapi yandex yas...   \n",
              "225792          1  ad sunuserapi tpc vk g mail my cdn-rtb g mail ...   \n",
              "\n",
              "                                                  url_cat  0  1  2  3  4  \n",
              "261849  Email   Email Email    Other  Email    Other S...  0  0  0  1  0  \n",
              "73422   Email Email Search_Engines  Email Broadcasts  ...  0  0  0  1  0  \n",
              "363854  community  Other  MobileApps Search_Engines  C...  0  0  0  1  0  \n",
              "290394  Hosting   Email Email Building_Supplies  Searc...  0  0  0  1  0  \n",
              "225792     Other  Email    Email Hosting  Email Other ...  0  0  0  1  0  \n",
              "\n",
              "[5 rows x 29 columns]"
            ]
          },
          "execution_count": 34,
          "metadata": {},
          "output_type": "execute_result"
        }
      ],
      "source": [
        "all_users.sample(5)"
      ]
    },
    {
      "cell_type": "markdown",
      "id": "q_3PzbwVTMST",
      "metadata": {
        "id": "q_3PzbwVTMST"
      },
      "source": [
        "## Объединение данных\n",
        "\n",
        "Вычленяем из основного ДФ две выборки:\n",
        "- all_data - c признаками и целевой переменной\n",
        "- closed_data - без целевой переменной с идентификаторами пользователей из заданного для предсказания списка"
      ]
    },
    {
      "cell_type": "code",
      "execution_count": null,
      "id": "Dgk1YioAuWyK",
      "metadata": {
        "id": "Dgk1YioAuWyK"
      },
      "outputs": [],
      "source": [
        "#Join data with target (in result -> train data)\n",
        "all_data = target_data.set_index('user_id').join(all_users.set_index('user_id'))\n",
        "\n",
        "#Join data with for closed users\n",
        "closed_data = id_to_submit.set_index('user_id').join(all_users.set_index('user_id'))\n",
        "\n",
        "del all_users"
      ]
    },
    {
      "cell_type": "markdown",
      "id": "1398bb3c-52f9-43ee-b3a0-0e6bb80a1c41",
      "metadata": {
        "id": "1398bb3c-52f9-43ee-b3a0-0e6bb80a1c41"
      },
      "source": [
        "### Выделение только тех URL, которые есть в closed_data\n",
        "\n",
        "Одна из идей, которая была попробована, чтобы повысить качество предсказания была достаточно читерской. Было сделано предположение, что преддсказания имеют низкое качество еще и из-за того, что модель учится на большом объеме сайтов, которые не посещали пользователи из закрытой выборки. А значит в процессе предсказания она сталкивается с признаками, для которых нет правил в модели. Чтобы избежать этого было предложено следующее:\n",
        "- составлен список сайтов из закрытой выборки\n",
        "- в списках для пользователей оставлены только те сайты, которые есть списке из закрытой выборки\n",
        "\n",
        "Этот подход не дал ожидаемого результата и поэтому его реализация перемещена в текстовое поле.\n",
        "\n",
        "\n",
        "\n",
        "```\n",
        "closed_list =set((\" \".join(closed_data.url_host)).split())\n",
        "all_data.url_host = all_data.url_host.transform(lambda x: search_closed(x, closed_list))\n",
        "```\n",
        "\n",
        "\n"
      ]
    },
    {
      "cell_type": "markdown",
      "id": "f95a0b1b-03d2-441a-a2b8-6f5dfaea350f",
      "metadata": {
        "id": "f95a0b1b-03d2-441a-a2b8-6f5dfaea350f"
      },
      "source": [
        "## Обработка тренировочной выборки\n",
        "\n",
        "Здесь размещены операции, которые по разным причинам мы применяем только к тренировочной выборке:\n",
        "- удаление новых пользователей, по которым крайнемало статистики (из закрытой выборки мы не можем никого удолять, ведь мы должны дать предсказания по всем пользователям)\n",
        "- расчет возрастной группы для каждого пользователя (естественно, в закрытой выборке нет данных по возрастам)\n",
        "- удаление из выборки записей, в которых нет данных о поле\n",
        "\n",
        "*Примечание:*\n",
        "\n",
        "Если бы было больше времени, можно было бы:\n",
        "- создавать отдельную тренировочную выборку для обучения модели расчета пола и отдельную выборку для обучения модели расчета возрастной группы)\n",
        "- тогда из выборки для возрастов записи с нулевым полом можно было бы не удалять"
      ]
    },
    {
      "cell_type": "code",
      "execution_count": null,
      "id": "e46383cc-9491-48a6-b513-6859d3233f52",
      "metadata": {
        "id": "e46383cc-9491-48a6-b513-6859d3233f52"
      },
      "outputs": [],
      "source": [
        "#Drop users who have the activity period is less than 2 days\n",
        "all_data['period'] = all_data.end_date - all_data.begin_date\n",
        "all_data['period'] = all_data['period'].astype('timedelta64[D]')\n",
        "all_data = all_data.drop(['begin_date','end_date'], axis = 1)\n",
        "all_data = all_data.query(\"period > 2\")"
      ]
    },
    {
      "cell_type": "code",
      "execution_count": null,
      "id": "dzLFKkACTwRL",
      "metadata": {
        "id": "dzLFKkACTwRL"
      },
      "outputs": [],
      "source": [
        "#Additing new column with age-group\n",
        "all_data['klass'] = all_data.age.apply(my_class)"
      ]
    },
    {
      "cell_type": "code",
      "execution_count": null,
      "id": "473303e8-5ac2-4ba7-a39b-2c4a9f1de573",
      "metadata": {
        "id": "473303e8-5ac2-4ba7-a39b-2c4a9f1de573"
      },
      "outputs": [],
      "source": [
        "#Drop rows with NA in target \n",
        "all_data.is_male = all_data.is_male.fillna('NA')\n",
        "all_data = all_data.query('is_male != \"NA\"')\n",
        "all_data.is_male = all_data.is_male.astype('int')\n",
        "\n",
        "all_data = all_data.query('klass != 7')"
      ]
    },
    {
      "cell_type": "code",
      "execution_count": null,
      "id": "36e44875-eb41-4893-ab00-1dc2ee175eda",
      "metadata": {
        "colab": {
          "base_uri": "https://localhost:8080/"
        },
        "id": "36e44875-eb41-4893-ab00-1dc2ee175eda",
        "outputId": "76d3171f-917e-4f15-a7f5-3e83a813da34"
      },
      "outputs": [
        {
          "data": {
            "text/plain": [
              "2    78512\n",
              "3    69250\n",
              "4    37507\n",
              "1    29189\n",
              "5    21075\n",
              "6     3752\n",
              "Name: klass, dtype: int64"
            ]
          },
          "execution_count": 41,
          "metadata": {},
          "output_type": "execute_result"
        }
      ],
      "source": [
        "#Распределение по возрастным группам\n",
        "all_data.klass.value_counts()"
      ]
    },
    {
      "cell_type": "markdown",
      "source": [
        "## Расчет дополнительных признаков"
      ],
      "metadata": {
        "id": "MsmTSLi3GZFT"
      },
      "id": "MsmTSLi3GZFT"
    },
    {
      "cell_type": "markdown",
      "id": "6ee6b32c-bf9d-4503-aeaa-1850d51b53da",
      "metadata": {
        "id": "6ee6b32c-bf9d-4503-aeaa-1850d51b53da"
      },
      "source": [
        "### Расчет списка релевантных URL-s каждого пола\n",
        "Идея в следующем: \n",
        "- найти список самых популярных сайтов для мужчин\n",
        "- найти список самых популярных сайтов для женщин\n",
        "- выделить те сайты, которые находять вне пересечения этих множеств и взять из них 10 популярных\n",
        "- для этих популярных и уникальных сайтов составить доп. столбцы и посчитать количество их посещений каждым пользователем\n",
        "\n",
        "Аналогично сделать для возрастных групп.\n",
        "Таким образом мы бы создали в ДФ сайты, активное использование которыых должно было бы свидетельствовать к определенной возрастной группе/полу.\n",
        "\n",
        "*Примечание:*\n",
        "\n",
        "Если бы было больше времени, можно было бы:\n",
        "- создавать отдельную тренировочную выборку для обучения модели расчета пола и отдельную выборку для обучения модели расчета возрастной группы)\n",
        "- тогда столбцы были бы расчитаны один раз (для пола - по полу, для возраста - по возрастным группам)\n"
      ]
    },
    {
      "cell_type": "code",
      "execution_count": null,
      "id": "Kq0E394eZ-KG",
      "metadata": {
        "colab": {
          "base_uri": "https://localhost:8080/"
        },
        "id": "Kq0E394eZ-KG",
        "outputId": "472e1bcb-41bd-49e9-ce78-3a4200a9ff55"
      },
      "outputs": [
        {
          "name": "stdout",
          "output_type": "stream",
          "text": [
            "['Russian_Cars', 'Registrars', 'Viruses', 'Sex_shops', 'Logos', 'Offshores', 'Autotravel', 'Photobanks']\n",
            "['Latina', 'Land_Cruisers', 'Belarusian_Literature', 'Database', 'UFO']\n"
          ]
        },
        {
          "data": {
            "text/plain": [
              "['Russian_Cars',\n",
              " 'Registrars',\n",
              " 'Viruses',\n",
              " 'Sex_shops',\n",
              " 'Logos',\n",
              " 'Offshores',\n",
              " 'Autotravel',\n",
              " 'Photobanks',\n",
              " 'Latina',\n",
              " 'Land_Cruisers',\n",
              " 'Belarusian_Literature',\n",
              " 'Database',\n",
              " 'UFO']"
            ]
          },
          "execution_count": 43,
          "metadata": {},
          "output_type": "execute_result"
        }
      ],
      "source": [
        "#Расчет списка популярных релевантных сайтом для мужчин и женщин\n",
        "cat_for_features_male = search_commons(all_data, 355, 10)\n",
        "cat_for_features_male"
      ]
    },
    {
      "cell_type": "markdown",
      "id": "DSbkXPKMQTn0",
      "metadata": {
        "id": "DSbkXPKMQTn0"
      },
      "source": [
        "### Расчет списка релевантных категорий URL-s каждого возраста\n"
      ]
    },
    {
      "cell_type": "code",
      "execution_count": null,
      "id": "YSNH_2HCaZ2h",
      "metadata": {
        "colab": {
          "base_uri": "https://localhost:8080/",
          "height": 506,
          "referenced_widgets": [
            "634a1e1de3b24f3fb0b2258d9772fed4",
            "f3478eff0b574dfcb89fb9260bfa5572",
            "7c242f0e49db41fda12da91ddf752364",
            "e28b0773c9c8416c8f59434831538e56",
            "96fc4313cb46433b9d9f2fc8363347fa",
            "e35cbcb1cf2347769ecd75a92012c4e6",
            "886ca7753bf9409aa837ca8b446cbdd5",
            "11446766759746379dec2f240f47c49e",
            "c43b97572f8c4cd08a6f01988a6a151a",
            "df9c45eabdb842d683d5da011d1b7a47",
            "9455d6febc564810a9a12f75d0493d30",
            "57b60de954e3471fb3a988b2aeed78da"
          ]
        },
        "id": "YSNH_2HCaZ2h",
        "outputId": "74797b4c-1768-4511-eede-6b099e2717e8"
      },
      "outputs": [
        {
          "data": {
            "application/vnd.jupyter.widget-view+json": {
              "model_id": "57b60de954e3471fb3a988b2aeed78da",
              "version_major": 2,
              "version_minor": 0
            },
            "text/plain": [
              "  0%|          | 0/7 [00:00<?, ?it/s]"
            ]
          },
          "metadata": {},
          "output_type": "display_data"
        },
        {
          "name": "stdout",
          "output_type": "stream",
          "text": [
            "['Animation', 'Unacknowledged', 'Managment', 'Country_Realty', 'Automation', 'Legal_Advice', 'Fantasy', 'Showtimes', 'Delivery', 'Parents']\n",
            "['Caricatures', 'Country_Realty', 'Furniture', 'Managment', 'Parents', 'Stations', 'Automation', 'Legal_Advice', 'Catalogues', 'Online_shops']\n",
            "['Cottage', 'Country_Realty', 'Stations', 'Furniture', 'Automation', 'Legal_Advice', 'Parents', 'Law', 'Catalogues', 'Managment']\n",
            "['Stations', 'Country_Realty', 'Automation', 'realty_base', 'Furniture', 'Catalogues', 'Law', 'Legal_Advice', 'Java_games', 'Aviation']\n",
            "['realty_base', 'Stations', 'Law', 'Java_games', 'Automation', 'Maps', 'Country_Realty', 'Furniture', 'Legal_Advice', 'Aviation']\n",
            "['Eurovision', 'Womens_Life', 'Maps', 'Stations', 'Automation', 'Used', 'realty_base', 'Celebrations', 'Law', 'Java_games']\n",
            "[]\n"
          ]
        },
        {
          "data": {
            "text/plain": [
              "['Animation',\n",
              " 'Unacknowledged',\n",
              " 'Managment',\n",
              " 'Country_Realty',\n",
              " 'Automation',\n",
              " 'Legal_Advice',\n",
              " 'Fantasy',\n",
              " 'Showtimes',\n",
              " 'Delivery',\n",
              " 'Parents',\n",
              " 'Caricatures',\n",
              " 'Country_Realty',\n",
              " 'Furniture',\n",
              " 'Managment',\n",
              " 'Parents',\n",
              " 'Stations',\n",
              " 'Automation',\n",
              " 'Legal_Advice',\n",
              " 'Catalogues',\n",
              " 'Online_shops',\n",
              " 'Cottage',\n",
              " 'Country_Realty',\n",
              " 'Stations',\n",
              " 'Furniture',\n",
              " 'Automation',\n",
              " 'Legal_Advice',\n",
              " 'Parents',\n",
              " 'Law',\n",
              " 'Catalogues',\n",
              " 'Managment',\n",
              " 'Stations',\n",
              " 'Country_Realty',\n",
              " 'Automation',\n",
              " 'realty_base',\n",
              " 'Furniture',\n",
              " 'Catalogues',\n",
              " 'Law',\n",
              " 'Legal_Advice',\n",
              " 'Java_games',\n",
              " 'Aviation',\n",
              " 'realty_base',\n",
              " 'Stations',\n",
              " 'Law',\n",
              " 'Java_games',\n",
              " 'Automation',\n",
              " 'Maps',\n",
              " 'Country_Realty',\n",
              " 'Furniture',\n",
              " 'Legal_Advice',\n",
              " 'Aviation',\n",
              " 'Eurovision',\n",
              " 'Womens_Life',\n",
              " 'Maps',\n",
              " 'Stations',\n",
              " 'Automation',\n",
              " 'Used',\n",
              " 'realty_base',\n",
              " 'Celebrations',\n",
              " 'Law',\n",
              " 'Java_games']"
            ]
          },
          "execution_count": 44,
          "metadata": {},
          "output_type": "execute_result"
        }
      ],
      "source": [
        "#Расчет списка популярных релевантных сайтом для возрастных групп\n",
        "cat_for_features_age = search_commons_age(all_data, 355, 10)\n",
        "cat_for_features_age"
      ]
    },
    {
      "cell_type": "markdown",
      "id": "3c5a22d2-ea1c-4664-825f-f97a4635399e",
      "metadata": {
        "id": "3c5a22d2-ea1c-4664-825f-f97a4635399e"
      },
      "source": [
        "### Сохранение релевантных URL в отдельный ДФ (чтобы можно было не повторять расчет)"
      ]
    },
    {
      "cell_type": "code",
      "execution_count": null,
      "id": "8SBc7nA9aiXH",
      "metadata": {
        "colab": {
          "base_uri": "https://localhost:8080/"
        },
        "id": "8SBc7nA9aiXH",
        "outputId": "b5f885bc-0f72-4571-a743-19a62c0175eb"
      },
      "outputs": [
        {
          "data": {
            "text/plain": [
              "['Logos',\n",
              " 'Unacknowledged',\n",
              " 'Catalogues',\n",
              " 'Sex_shops',\n",
              " 'Managment',\n",
              " 'Fantasy',\n",
              " 'Autotravel',\n",
              " 'Celebrations',\n",
              " 'Maps',\n",
              " 'Legal_Advice',\n",
              " 'Aviation',\n",
              " 'Cottage',\n",
              " 'realty_base',\n",
              " 'Country_Realty',\n",
              " 'Latina',\n",
              " 'Registrars',\n",
              " 'Parents',\n",
              " 'Online_shops',\n",
              " 'Belarusian_Literature',\n",
              " 'Automation',\n",
              " 'Russian_Cars',\n",
              " 'Delivery',\n",
              " 'Animation',\n",
              " 'Stations',\n",
              " 'Furniture',\n",
              " 'Showtimes',\n",
              " 'Used',\n",
              " 'Offshores',\n",
              " 'Land_Cruisers',\n",
              " 'Law',\n",
              " 'Java_games',\n",
              " 'Database',\n",
              " 'UFO',\n",
              " 'Caricatures',\n",
              " 'Photobanks',\n",
              " 'Eurovision',\n",
              " 'Womens_Life',\n",
              " 'Viruses']"
            ]
          },
          "execution_count": 45,
          "metadata": {},
          "output_type": "execute_result"
        }
      ],
      "source": [
        "top_cat_for_agg = list(set(cat_for_features_male + cat_for_features_age))\n",
        "top_cat_for_agg_df = pd.DataFrame({'top_cat_for_agg': top_cat_for_agg}) \n",
        "top_cat_for_agg_df.to_csv('top_cat_for_agg.csv')\n",
        "top_cat_for_agg"
      ]
    },
    {
      "cell_type": "markdown",
      "id": "zC0eIC5CjNS3",
      "metadata": {
        "id": "zC0eIC5CjNS3"
      },
      "source": [
        "## Расчет статистики по релевантным URL-столбцам"
      ]
    },
    {
      "cell_type": "code",
      "execution_count": null,
      "id": "fa399537-bd7a-4c27-a9df-f0be46efd031",
      "metadata": {
        "colab": {
          "referenced_widgets": [
            "e3f4e035c24146f5af951872d999eaf0"
          ]
        },
        "id": "fa399537-bd7a-4c27-a9df-f0be46efd031",
        "outputId": "ec07a391-5fe7-42c4-990e-9ed255cf0485"
      },
      "outputs": [
        {
          "data": {
            "application/vnd.jupyter.widget-view+json": {
              "model_id": "e3f4e035c24146f5af951872d999eaf0",
              "version_major": 2,
              "version_minor": 0
            },
            "text/plain": [
              "  0%|          | 0/38 [00:00<?, ?it/s]"
            ]
          },
          "metadata": {},
          "output_type": "display_data"
        }
      ],
      "source": [
        "#Расчет числа посещений пользователей по каждому доп. столбцу с релевантным URL \n",
        "for cat in tqdm(top_cat_for_agg): \n",
        "  all_data[cat] = all_data.url_cat.transform(lambda x: Counter(str(x).split())[cat])\n",
        "  closed_data[cat] = closed_data.url_cat.transform(lambda x: Counter(str(x).split())[cat])\n"
      ]
    },
    {
      "cell_type": "markdown",
      "source": [
        "### Постъобработка"
      ],
      "metadata": {
        "id": "FStHnYKAHJDu"
      },
      "id": "FStHnYKAHJDu"
    },
    {
      "cell_type": "code",
      "execution_count": null,
      "id": "689f9046-afd3-4a16-ac71-6cf7baf64bed",
      "metadata": {
        "id": "689f9046-afd3-4a16-ac71-6cf7baf64bed"
      },
      "outputs": [],
      "source": [
        "#Удаление промежуточных столбцов\n",
        "all_data = all_data.drop(['clean_url_host', 'url_cat'], axis = 1)\n",
        "closed_data = closed_data.drop(['clean_url_host', 'url_cat'], axis = 1)"
      ]
    },
    {
      "cell_type": "code",
      "execution_count": null,
      "id": "5744f188-699c-4bf1-8401-a07834521d00",
      "metadata": {
        "colab": {
          "base_uri": "https://localhost:8080/"
        },
        "id": "5744f188-699c-4bf1-8401-a07834521d00",
        "outputId": "bae72e44-5a09-4c42-b747-c8ccae04880d"
      },
      "outputs": [
        {
          "data": {
            "text/plain": [
              "age               0\n",
              "is_male           0\n",
              "url_host          0\n",
              "price          5687\n",
              "evening           0\n",
              "               ... \n",
              "Caricatures       0\n",
              "Photobanks        0\n",
              "Eurovision        0\n",
              "Womens_Life       0\n",
              "Viruses           0\n",
              "Length: 66, dtype: int64"
            ]
          },
          "execution_count": 52,
          "metadata": {},
          "output_type": "execute_result"
        }
      ],
      "source": [
        "#Проверка пропусков\n",
        "all_data.isna().sum()"
      ]
    },
    {
      "cell_type": "markdown",
      "source": [
        "## Подготовка к ML"
      ],
      "metadata": {
        "id": "CGhvDNwsHocs"
      },
      "id": "CGhvDNwsHocs"
    },
    {
      "cell_type": "markdown",
      "source": [
        "### Объявление списков признаков и целевых переменных"
      ],
      "metadata": {
        "id": "QVehMberHtte"
      },
      "id": "QVehMberHtte"
    },
    {
      "cell_type": "code",
      "execution_count": null,
      "id": "C8sR0R_lGpEv",
      "metadata": {
        "colab": {
          "base_uri": "https://localhost:8080/"
        },
        "id": "C8sR0R_lGpEv",
        "outputId": "66927e7f-6d45-41f9-a83e-8dbc8d55dd7e"
      },
      "outputs": [
        {
          "name": "stdout",
          "output_type": "stream",
          "text": [
            "user_id\n"
          ]
        }
      ],
      "source": [
        "#Prepare lists with names of features \n",
        "common_col = ['user_id']\n",
        "tar_col = ['age', 'is_male', 'klass']\n",
        "feat_col = list(all_data.columns)\n",
        "for element in common_col + tar_col:\n",
        "  try:\n",
        "    feat_col.remove(element)\n",
        "  except:\n",
        "    print(element)"
      ]
    },
    {
      "cell_type": "markdown",
      "id": "yGCIzslTijWJ",
      "metadata": {
        "id": "yGCIzslTijWJ"
      },
      "source": [
        "## Разделение открытых данных (тренировочных) на тренировочные и тестовые\n",
        "\n",
        "Так как мы подбираем гиперпараметры через кроссвалидацию, а проверяем нашу модель на площадке организаторов по закрытым данным, то после того, как общая концепция решения была выбрана, размер тестовой выборки был минимизирован. Так как фактически, она нам вообще была не нужна."
      ]
    },
    {
      "cell_type": "code",
      "execution_count": null,
      "id": "663bdf8e-f4e4-4f56-9b5f-b2d5fbc6f5a1",
      "metadata": {
        "id": "663bdf8e-f4e4-4f56-9b5f-b2d5fbc6f5a1"
      },
      "outputs": [],
      "source": [
        "#Split in train and test samples\n",
        "train_f, test_f, train_t, test_t = \\\n",
        "train_test_split(all_data[feat_col], all_data[tar_col], \\\n",
        "                 test_size = 0.00002, shuffle = True, stratify = all_data.is_male)\n",
        "\n",
        "#Clear memory\n",
        "del all_data"
      ]
    },
    {
      "cell_type": "markdown",
      "id": "507275d5-3df5-4fff-8612-8ae063b4300d",
      "metadata": {
        "id": "507275d5-3df5-4fff-8612-8ae063b4300d"
      },
      "source": [
        "## Расчет пола\n",
        "\n",
        "Расчет пола реализован через паплайн на базе GridSearchCV, обеспечивающего перебор гиперпараметров для двух шагов паплайна:\n",
        "- расчета tf-idf матрицы по столбцу со списками сайтов\n",
        "- классификатора на базе LGBMClassifier \n",
        "\n",
        "Также пробовался вариант использования метода понижения размерности методом PCA. На тренировочной выборке он давал потрясающие результаты в виде ускорения обучения (в разы) и увеличения качества предсказаний. Но на тестовой выборке результаты были слабыми. От него пришлось отказаться"
      ]
    },
    {
      "cell_type": "code",
      "execution_count": null,
      "id": "adeff911-672b-4586-9217-24ae7588b6d9",
      "metadata": {
        "id": "adeff911-672b-4586-9217-24ae7588b6d9",
        "outputId": "716e3ed6-c194-4c44-87ec-257a907dccad"
      },
      "outputs": [
        {
          "name": "stdout",
          "output_type": "stream",
          "text": [
            "<class 'pandas.core.series.Series'>\n",
            "pipe fit finished\n",
            "<class 'pandas.core.series.Series'>\n",
            "<class 'pandas.core.series.Series'>\n",
            "pipe predict finished\n",
            "0.8508104693981058 1.0\n"
          ]
        },
        {
          "data": {
            "text/plain": [
              "['pipe_dm_nor.pkl']"
            ]
          },
          "execution_count": 55,
          "metadata": {},
          "output_type": "execute_result"
        }
      ],
      "source": [
        "# # Считывание предъобученной модели\n",
        "#pipe_dm = joblib.load('pipe_dm_nor.pkl')\n",
        "\n",
        "# tfidf-pipe \n",
        "url_pipe = Pipeline([\n",
        "    ('selector', ColumnSelector('url_host')),\n",
        "    ('tfidf', TfidfVectorizer(min_df = 4, ngram_range=(1,3)))])\n",
        "\n",
        "## complecs pipe \n",
        "pipe_dm = Pipeline(steps=[\\\n",
        "                       ('tfidf_url', url_pipe),\n",
        "                       ('model', LGBMClassifier(random_state = 42, n_estimators = 1000, max_depth = -1, learning_rate = 0.07))\\\n",
        "                       ])\n",
        "pipe_dm.fit(train_f, train_t.is_male)\n",
        "print('pipe fit finished')\n",
        "\n",
        "#Расчет пола\n",
        "train_f['male_proba'] = pipe_dm.predict_proba(train_f)[:, 1]\n",
        "test_f['male_proba'] = pipe_dm.predict_proba(test_f)[:, 1]\n",
        "print('pipe predict finished')\n",
        "\n",
        "#Промежуточные метрики\n",
        "roc_auc_male_train_1 = roc_auc_score(train_t.is_male, train_f['male_proba'])\n",
        "roc_auc_male_test_1 = roc_auc_score(test_t.is_male, test_f['male_proba'])\n",
        "print(roc_auc_male_train_1, roc_auc_male_test_1)\n",
        "\n",
        "#Сохранение модели\n",
        "joblib.dump(pipe_dm, 'pipe_dm_nor.pkl')"
      ]
    },
    {
      "cell_type": "markdown",
      "id": "a6fec252-0b20-4c15-b3ab-2bcaa4f0b18c",
      "metadata": {
        "id": "a6fec252-0b20-4c15-b3ab-2bcaa4f0b18c"
      },
      "source": [
        "## Доп признак для возраста\n",
        "\n",
        "Расчет возраста реализован через паплайн на базе GridSearchCV, обеспечивающего перебор гиперпараметров для двух шагов паплайна:\n",
        "- расчета tf-idf матрицы по столбцу со списками сайтов\n",
        "- классификатора на базе LGBMClassifier \n",
        "\n",
        "Также пробовался вариант использования метода понижения размерности методом PCA. На тренировочной выборке он давал потрясающие результаты в виде ускорения обучения (в разы) и увеличения качества предсказаний. Но на тестовой выборке результаты были слабыми. От него пришлось отказаться.\n",
        "\n",
        "Кроме того вместо классификатора предпринималась попытка использования регрессора для расчета точного возраста с последующим присвоением ему возрастной категории. Но у такого подхода метрики были хуже"
      ]
    },
    {
      "cell_type": "code",
      "execution_count": null,
      "id": "8E9PB9730Ayf",
      "metadata": {
        "colab": {
          "base_uri": "https://localhost:8080/",
          "height": 340
        },
        "id": "8E9PB9730Ayf",
        "outputId": "09a937d9-a31e-47fb-bbd4-d21d5ece0881"
      },
      "outputs": [
        {
          "name": "stdout",
          "output_type": "stream",
          "text": [
            "0.8122242314918986 0.4\n"
          ]
        },
        {
          "data": {
            "text/plain": [
              "['model_da.pkl']"
            ]
          },
          "execution_count": 59,
          "metadata": {},
          "output_type": "execute_result"
        }
      ],
      "source": [
        "# tfidf-pipe \n",
        "url_pipe = Pipeline([\n",
        "    ('selector', ColumnSelector('url_host')),\n",
        "    ('tfidf', TfidfVectorizer(min_df = 3, ngram_range=(1,3)))])\n",
        "\n",
        "## complecs pipe \n",
        "pipe_da = Pipeline(steps=[\\\n",
        "                       ('tfidf_url', url_pipe),\n",
        "                       ('model', LGBMClassifier(n_estimators = 1000, num_leaves = 35, objective = 'multiclass', num_class = 6,\\\n",
        "                         max_depth = -1, learning_rate = 0.07, silent = False))\\\n",
        "                       ])\n",
        "\n",
        "pipe_da.fit(train_f, train_t.klass)\n",
        "print('model fit finished')\n",
        "\n",
        "#Расчет возрастных групп\n",
        "train_age_klass = pipe_da.predict(train_f)\n",
        "test_age_klass = pipe_da.predict(test_f)\n",
        "print('model predict finished')\n",
        "\n",
        "#Промежуточные метрики\n",
        "train_f1_2 = f1_score(train_t.klass, train_age_klass, average = 'weighted')\n",
        "test_f1_2 = f1_score(test_t.klass, test_age_klass, average = 'weighted')\n",
        "print(train_f1_2, test_f1_2)\n",
        "\n",
        "#Сохранение модели\n",
        "joblib.dump(pipe_da, 'model_da.pkl')"
      ]
    },
    {
      "cell_type": "code",
      "execution_count": null,
      "id": "8c8MBPgMoS88",
      "metadata": {
        "colab": {
          "base_uri": "https://localhost:8080/"
        },
        "id": "8c8MBPgMoS88",
        "outputId": "ef389a09-cb6f-4e49-fe70-11a4b648ba62"
      },
      "outputs": [
        {
          "name": "stdout",
          "output_type": "stream",
          "text": [
            "2.3260694017800088 1.7999999999999998\n"
          ]
        }
      ],
      "source": [
        "#Итоговые метрики\n",
        "train_result_score_2 = 2*train_f1_2 + 2*roc_auc_male_train_1 - 1\n",
        "test_result_score_2 = 2*test_f1_2 + 2*roc_auc_male_test_1 - 1\n",
        "print(train_result_score_2, test_result_score_2)"
      ]
    },
    {
      "cell_type": "markdown",
      "id": "B1up9YaCp_HO",
      "metadata": {
        "id": "B1up9YaCp_HO"
      },
      "source": [
        "# РАБОТА С ЗАКРЫТЫМИ ДАННЫМИ"
      ]
    },
    {
      "cell_type": "markdown",
      "source": [
        "## Предъобработка"
      ],
      "metadata": {
        "id": "m1HYxLALLjW9"
      },
      "id": "m1HYxLALLjW9"
    },
    {
      "cell_type": "code",
      "execution_count": null,
      "id": "8b5feb24-1e1c-494c-9c1d-23bc91188634",
      "metadata": {
        "id": "8b5feb24-1e1c-494c-9c1d-23bc91188634"
      },
      "outputs": [],
      "source": [
        "closed_data['period'] = closed_data.end_date - closed_data.begin_date\n",
        "closed_data['period'] = closed_data['period'].astype('timedelta64[D]')"
      ]
    },
    {
      "cell_type": "markdown",
      "source": [
        "## Предсказание целевых переменных"
      ],
      "metadata": {
        "id": "NJxKkd_wLpYq"
      },
      "id": "NJxKkd_wLpYq"
    },
    {
      "cell_type": "code",
      "execution_count": null,
      "id": "55ee47bc-99ef-4dc4-9df0-3c3c50f056c8",
      "metadata": {
        "id": "55ee47bc-99ef-4dc4-9df0-3c3c50f056c8",
        "outputId": "f5299cf2-b331-4d7d-e41f-e681c60c7a07"
      },
      "outputs": [
        {
          "name": "stdout",
          "output_type": "stream",
          "text": [
            "<class 'pandas.core.series.Series'>\n",
            "<class 'pandas.core.series.Series'>\n"
          ]
        }
      ],
      "source": [
        "#Calc male\n",
        "closed_male = pipe_dm.predict_proba(closed_data)[:, 1]\n",
        "\n",
        "#Calc age group\n",
        "closed_data_age = pipe_da.predict(closed_data)"
      ]
    },
    {
      "cell_type": "markdown",
      "source": [
        "## Фиксация результатов"
      ],
      "metadata": {
        "id": "MIut16S6Lx1n"
      },
      "id": "MIut16S6Lx1n"
    },
    {
      "cell_type": "code",
      "execution_count": null,
      "id": "94612428-41b3-4d13-8920-5aa26b9ae2fc",
      "metadata": {
        "id": "94612428-41b3-4d13-8920-5aa26b9ae2fc"
      },
      "outputs": [],
      "source": [
        "# ДФ с расчетами\n",
        "results = pd.DataFrame({'is_male': closed_male, 'age':  closed_data_age}, index = closed_data.index)\n",
        "\n",
        "#Уточнение типов данных\n",
        "results = results.astype({'is_male': 'float64'})\n",
        "results = results.astype({'age': 'int64'})\n",
        "\n",
        "#Запись в файл\n",
        "results.to_csv('mts_27.csv')"
      ]
    },
    {
      "cell_type": "markdown",
      "source": [
        "## Выводы\n",
        "\n",
        "Целью соревнования было предсказать для каждого пользователя из закрытой выборки две целевые переменные (пол и возрастную группу). В качестве данных для обучения был предоставлен набор паркетных файлов с данными о запросах, поступающих с сайтов, которые посещали пользователи, содержащих:\n",
        "- название сайта\n",
        "- дата посещения\n",
        "- время посещения (утро, день, вечер, ночь)\n",
        "- данные устройства, с которого поступила информация (тип, производитель, модель, цена)\n",
        "- область\n",
        "- город.\n",
        "\n",
        "Решение задания разбито на два блокнота:\n",
        "1. В первом реализовано начальная обработка данных:\n",
        "- считывание паркетных файлов\n",
        "- агрегация записей по идентификаторам пользователей с расчетом агрегированных признаков по каждому пользователю:\n",
        "- списка всех названий сайтов, размещенных в хронологической последовательности;\n",
        "- количества посещений по времени суток (утром, днем, вечером, ночью)\n",
        "- количества посещений по дням недели (понедельник, вторник и т.д.)\n",
        "- наиболее часто встречающегося города\n",
        "- наиболее часто встречающегося региона\n",
        "- количества уникальных городов\n",
        "- количества уникальных регионов\n",
        "- наиболее часто встречающегося типа устройства\n",
        "- наиболее часто встречающейся модели устройства\n",
        "- средней цены устройства.\n",
        "\n",
        "2. Во втором ноутбуке реализованы:\n",
        "- базовая преодобработка (уточнение типов данных, обработка пропусков)\n",
        "- дизайн новых признаков, связанных с названиями сайтов\n",
        "- разделение выборки на закрытую и открытую, кторая в свою очередь поделена на тренироввочную и тестовую\n",
        "- подбор гиперпараметров для двух моделей на базе LGBMClassifier, которые по отдельности должны рассчитывать целевые переменные\n",
        "- обучение моделей и расчет целевых переменных для закрытых данных\n",
        "- оформление расчетов и их выгрузка в файл, который можно отправить на площадку для submit-а.\n",
        "\n",
        "В процессе дизайна реализованы и опробованы разные подходы к повышению информативности данных и снижению их размерности. Основные из них:\n",
        "1. Удаление из названий сайтов доменных зон, чисел и повторяющихся комбинаций типа (подход показал свою эфективность и оставлен в решении)\n",
        "2. Замена названий сайтов на их категории (автотовары, спорт, игры и т.д.), рассчитанные на основании отдельного общедоступного датафрейма, в котором храняться записи с названиями сайтов и их категориями с несколькими уровнями конкретизации (не дал заметного эффекта, в конечном варианте решения не применялся)\n",
        "3. Создание дополнительных столбцов для каждого из популярных релевантных сайтов (*) с последующим расчетом числа посещений этих сайтов для каждого из пользователей\n",
        "\n",
        "(*) популярные релевантные сайты по полу получаются так:\n",
        "- рассчитывается список самых популярных сайтов для мужчин\n",
        "- рассчитывается список самых популярных сайтов для женщин\n",
        "- из списков выбираются те сайты, которые находять вне пересечения полученных множеств, из них сохраняются 10 самых популярных\n",
        "- для этих популярных и уникальных сайтов составляются доп. столбцы и расчитывается количество посещений сайта столбца каждым пользователем\n",
        "(**) популярные релевантные сайты по возрастной группе получаются аналогично, но стратификация проводиться по возрастной группе\n",
        "\n",
        "4. Создание дополнительных столбцов для каждой из популярных релевантных категорий сайтов (*) с последующим расчетом числа посещений этих категорий для каждого из пользователей (подход не оправдал себя и в конечное решение не попал)\n",
        "\n",
        "В результате моделирования была достигнута итоговая метрика, равная 1.62, рассчитанная по формуле:\n",
        "\n",
        "метрика\n",
        "```\n",
        "score = 2*f1 + 2*roc_auc - 1, \n",
        "где:\n",
        "- f1 - метрика для задачи классификации возрастных групп (f1_score(y_true, y_pred, average = 'weighted'))\n",
        "- roc_auc - метрика для задачи классификации по полу (roc_auc_score(y_true, y_pred)\n",
        "```\n",
        "\n",
        " Что можно сделать, чтобы стало лучше:\n",
        " 1. Добавить новые признаки на этапе агрегации.\n",
        " 1. Использовать CatBoost вместо LightGBM (к сожалению, скромные вычислительные мощности этому препятствовали)\n",
        " 2. Не кодировать категориальные переменные, доверить это бустинговой модели (LightGBM и CatBoost умеют рабоать с ними напрямую).\n",
        " 3. Подготавливать отдельные выборки с отдельными признаками (особенно по релевантным сайтам) для модели классификации по полу и модели классификации по возрастной группе.\n",
        " 4. Подружить название сайта и время его посещения и создать новый столбец со списками сайтов, состоящими из пар (время, название сайта). \n",
        " 5. Использовать нейросети для преобработки тектов и генерирования признаков, на которых затем обучить бустинговую модель.\n",
        "\n",
        "\n",
        "\n",
        "\n",
        "\n",
        "\n",
        "\n",
        "- \n"
      ],
      "metadata": {
        "id": "n0y7HmD_MEcR"
      },
      "id": "n0y7HmD_MEcR"
    },
    {
      "cell_type": "markdown",
      "source": [],
      "metadata": {
        "id": "rMWBEMPOSJ3x"
      },
      "id": "rMWBEMPOSJ3x"
    }
  ],
  "metadata": {
    "colab": {
      "provenance": [],
      "toc_visible": true
    },
    "kernelspec": {
      "display_name": "Python 3 (ipykernel)",
      "language": "python",
      "name": "python3"
    },
    "language_info": {
      "codemirror_mode": {
        "name": "ipython",
        "version": 3
      },
      "file_extension": ".py",
      "mimetype": "text/x-python",
      "name": "python",
      "nbconvert_exporter": "python",
      "pygments_lexer": "ipython3",
      "version": "3.9.13"
    },
    "widgets": {
      "application/vnd.jupyter.widget-state+json": {
        "11446766759746379dec2f240f47c49e": {
          "model_module": "@jupyter-widgets/base",
          "model_module_version": "1.2.0",
          "model_name": "LayoutModel",
          "state": {
            "_model_module": "@jupyter-widgets/base",
            "_model_module_version": "1.2.0",
            "_model_name": "LayoutModel",
            "_view_count": null,
            "_view_module": "@jupyter-widgets/base",
            "_view_module_version": "1.2.0",
            "_view_name": "LayoutView",
            "align_content": null,
            "align_items": null,
            "align_self": null,
            "border": null,
            "bottom": null,
            "display": null,
            "flex": null,
            "flex_flow": null,
            "grid_area": null,
            "grid_auto_columns": null,
            "grid_auto_flow": null,
            "grid_auto_rows": null,
            "grid_column": null,
            "grid_gap": null,
            "grid_row": null,
            "grid_template_areas": null,
            "grid_template_columns": null,
            "grid_template_rows": null,
            "height": null,
            "justify_content": null,
            "justify_items": null,
            "left": null,
            "margin": null,
            "max_height": null,
            "max_width": null,
            "min_height": null,
            "min_width": null,
            "object_fit": null,
            "object_position": null,
            "order": null,
            "overflow": null,
            "overflow_x": null,
            "overflow_y": null,
            "padding": null,
            "right": null,
            "top": null,
            "visibility": null,
            "width": null
          }
        },
        "634a1e1de3b24f3fb0b2258d9772fed4": {
          "model_module": "@jupyter-widgets/controls",
          "model_module_version": "1.5.0",
          "model_name": "HBoxModel",
          "state": {
            "_dom_classes": [],
            "_model_module": "@jupyter-widgets/controls",
            "_model_module_version": "1.5.0",
            "_model_name": "HBoxModel",
            "_view_count": null,
            "_view_module": "@jupyter-widgets/controls",
            "_view_module_version": "1.5.0",
            "_view_name": "HBoxView",
            "box_style": "",
            "children": [
              "IPY_MODEL_f3478eff0b574dfcb89fb9260bfa5572",
              "IPY_MODEL_7c242f0e49db41fda12da91ddf752364",
              "IPY_MODEL_e28b0773c9c8416c8f59434831538e56"
            ],
            "layout": "IPY_MODEL_96fc4313cb46433b9d9f2fc8363347fa"
          }
        },
        "7c242f0e49db41fda12da91ddf752364": {
          "model_module": "@jupyter-widgets/controls",
          "model_module_version": "1.5.0",
          "model_name": "FloatProgressModel",
          "state": {
            "_dom_classes": [],
            "_model_module": "@jupyter-widgets/controls",
            "_model_module_version": "1.5.0",
            "_model_name": "FloatProgressModel",
            "_view_count": null,
            "_view_module": "@jupyter-widgets/controls",
            "_view_module_version": "1.5.0",
            "_view_name": "ProgressView",
            "bar_style": "success",
            "description": "",
            "description_tooltip": null,
            "layout": "IPY_MODEL_11446766759746379dec2f240f47c49e",
            "max": 7,
            "min": 0,
            "orientation": "horizontal",
            "style": "IPY_MODEL_c43b97572f8c4cd08a6f01988a6a151a",
            "value": 7
          }
        },
        "886ca7753bf9409aa837ca8b446cbdd5": {
          "model_module": "@jupyter-widgets/controls",
          "model_module_version": "1.5.0",
          "model_name": "DescriptionStyleModel",
          "state": {
            "_model_module": "@jupyter-widgets/controls",
            "_model_module_version": "1.5.0",
            "_model_name": "DescriptionStyleModel",
            "_view_count": null,
            "_view_module": "@jupyter-widgets/base",
            "_view_module_version": "1.2.0",
            "_view_name": "StyleView",
            "description_width": ""
          }
        },
        "9455d6febc564810a9a12f75d0493d30": {
          "model_module": "@jupyter-widgets/controls",
          "model_module_version": "1.5.0",
          "model_name": "DescriptionStyleModel",
          "state": {
            "_model_module": "@jupyter-widgets/controls",
            "_model_module_version": "1.5.0",
            "_model_name": "DescriptionStyleModel",
            "_view_count": null,
            "_view_module": "@jupyter-widgets/base",
            "_view_module_version": "1.2.0",
            "_view_name": "StyleView",
            "description_width": ""
          }
        },
        "96fc4313cb46433b9d9f2fc8363347fa": {
          "model_module": "@jupyter-widgets/base",
          "model_module_version": "1.2.0",
          "model_name": "LayoutModel",
          "state": {
            "_model_module": "@jupyter-widgets/base",
            "_model_module_version": "1.2.0",
            "_model_name": "LayoutModel",
            "_view_count": null,
            "_view_module": "@jupyter-widgets/base",
            "_view_module_version": "1.2.0",
            "_view_name": "LayoutView",
            "align_content": null,
            "align_items": null,
            "align_self": null,
            "border": null,
            "bottom": null,
            "display": null,
            "flex": null,
            "flex_flow": null,
            "grid_area": null,
            "grid_auto_columns": null,
            "grid_auto_flow": null,
            "grid_auto_rows": null,
            "grid_column": null,
            "grid_gap": null,
            "grid_row": null,
            "grid_template_areas": null,
            "grid_template_columns": null,
            "grid_template_rows": null,
            "height": null,
            "justify_content": null,
            "justify_items": null,
            "left": null,
            "margin": null,
            "max_height": null,
            "max_width": null,
            "min_height": null,
            "min_width": null,
            "object_fit": null,
            "object_position": null,
            "order": null,
            "overflow": null,
            "overflow_x": null,
            "overflow_y": null,
            "padding": null,
            "right": null,
            "top": null,
            "visibility": null,
            "width": null
          }
        },
        "c43b97572f8c4cd08a6f01988a6a151a": {
          "model_module": "@jupyter-widgets/controls",
          "model_module_version": "1.5.0",
          "model_name": "ProgressStyleModel",
          "state": {
            "_model_module": "@jupyter-widgets/controls",
            "_model_module_version": "1.5.0",
            "_model_name": "ProgressStyleModel",
            "_view_count": null,
            "_view_module": "@jupyter-widgets/base",
            "_view_module_version": "1.2.0",
            "_view_name": "StyleView",
            "bar_color": null,
            "description_width": ""
          }
        },
        "df9c45eabdb842d683d5da011d1b7a47": {
          "model_module": "@jupyter-widgets/base",
          "model_module_version": "1.2.0",
          "model_name": "LayoutModel",
          "state": {
            "_model_module": "@jupyter-widgets/base",
            "_model_module_version": "1.2.0",
            "_model_name": "LayoutModel",
            "_view_count": null,
            "_view_module": "@jupyter-widgets/base",
            "_view_module_version": "1.2.0",
            "_view_name": "LayoutView",
            "align_content": null,
            "align_items": null,
            "align_self": null,
            "border": null,
            "bottom": null,
            "display": null,
            "flex": null,
            "flex_flow": null,
            "grid_area": null,
            "grid_auto_columns": null,
            "grid_auto_flow": null,
            "grid_auto_rows": null,
            "grid_column": null,
            "grid_gap": null,
            "grid_row": null,
            "grid_template_areas": null,
            "grid_template_columns": null,
            "grid_template_rows": null,
            "height": null,
            "justify_content": null,
            "justify_items": null,
            "left": null,
            "margin": null,
            "max_height": null,
            "max_width": null,
            "min_height": null,
            "min_width": null,
            "object_fit": null,
            "object_position": null,
            "order": null,
            "overflow": null,
            "overflow_x": null,
            "overflow_y": null,
            "padding": null,
            "right": null,
            "top": null,
            "visibility": null,
            "width": null
          }
        },
        "e28b0773c9c8416c8f59434831538e56": {
          "model_module": "@jupyter-widgets/controls",
          "model_module_version": "1.5.0",
          "model_name": "HTMLModel",
          "state": {
            "_dom_classes": [],
            "_model_module": "@jupyter-widgets/controls",
            "_model_module_version": "1.5.0",
            "_model_name": "HTMLModel",
            "_view_count": null,
            "_view_module": "@jupyter-widgets/controls",
            "_view_module_version": "1.5.0",
            "_view_name": "HTMLView",
            "description": "",
            "description_tooltip": null,
            "layout": "IPY_MODEL_df9c45eabdb842d683d5da011d1b7a47",
            "placeholder": "​",
            "style": "IPY_MODEL_9455d6febc564810a9a12f75d0493d30",
            "value": " 7/7 [00:00&lt;00:00, 14.00it/s]"
          }
        },
        "e35cbcb1cf2347769ecd75a92012c4e6": {
          "model_module": "@jupyter-widgets/base",
          "model_module_version": "1.2.0",
          "model_name": "LayoutModel",
          "state": {
            "_model_module": "@jupyter-widgets/base",
            "_model_module_version": "1.2.0",
            "_model_name": "LayoutModel",
            "_view_count": null,
            "_view_module": "@jupyter-widgets/base",
            "_view_module_version": "1.2.0",
            "_view_name": "LayoutView",
            "align_content": null,
            "align_items": null,
            "align_self": null,
            "border": null,
            "bottom": null,
            "display": null,
            "flex": null,
            "flex_flow": null,
            "grid_area": null,
            "grid_auto_columns": null,
            "grid_auto_flow": null,
            "grid_auto_rows": null,
            "grid_column": null,
            "grid_gap": null,
            "grid_row": null,
            "grid_template_areas": null,
            "grid_template_columns": null,
            "grid_template_rows": null,
            "height": null,
            "justify_content": null,
            "justify_items": null,
            "left": null,
            "margin": null,
            "max_height": null,
            "max_width": null,
            "min_height": null,
            "min_width": null,
            "object_fit": null,
            "object_position": null,
            "order": null,
            "overflow": null,
            "overflow_x": null,
            "overflow_y": null,
            "padding": null,
            "right": null,
            "top": null,
            "visibility": null,
            "width": null
          }
        },
        "f3478eff0b574dfcb89fb9260bfa5572": {
          "model_module": "@jupyter-widgets/controls",
          "model_module_version": "1.5.0",
          "model_name": "HTMLModel",
          "state": {
            "_dom_classes": [],
            "_model_module": "@jupyter-widgets/controls",
            "_model_module_version": "1.5.0",
            "_model_name": "HTMLModel",
            "_view_count": null,
            "_view_module": "@jupyter-widgets/controls",
            "_view_module_version": "1.5.0",
            "_view_name": "HTMLView",
            "description": "",
            "description_tooltip": null,
            "layout": "IPY_MODEL_e35cbcb1cf2347769ecd75a92012c4e6",
            "placeholder": "​",
            "style": "IPY_MODEL_886ca7753bf9409aa837ca8b446cbdd5",
            "value": "100%"
          }
        }
      }
    }
  },
  "nbformat": 4,
  "nbformat_minor": 5
}